{
 "cells": [
  {
   "cell_type": "markdown",
   "metadata": {},
   "source": [
    "# Implementation of a Devito skew self adjoint variable density visco- acoustic isotropic modeling operator <br>-- Correctness Testing --\n",
    "\n",
    "## This operator is contributed by Chevron Energy Technology Company (2020)\n",
    "\n",
    "This operator is based on simplfications of the systems presented in:\n",
    "<br>**Self-adjoint, energy-conserving second-order pseudoacoustic systems for VTI and TTI media for reverse time migration and full-waveform inversion** (2016)\n",
    "<br>Kenneth Bube, John Washbourne, Raymond Ergas, and Tamas Nemeth\n",
    "<br>SEG Technical Program Expanded Abstracts\n",
    "<br>https://library.seg.org/doi/10.1190/segam2016-13878451.1"
   ]
  },
  {
   "cell_type": "markdown",
   "metadata": {},
   "source": [
    "## Introduction \n",
    "\n",
    "The goal of this tutorial set is to generate and prove correctness of modeling and inversion capability in Devito for variable density visco- acoustics using an energy conserving form of the wave equation. We describe how the linearization of the energy conserving *skew self adjoint* system with respect to modeling parameters allows using the same modeling system for all nonlinear and linearized forward and adjoint finite difference evolutions. \n",
    "\n",
    "There are three notebooks in this series:\n",
    "\n",
    "1. *Implementation of a Devito skew self adjoint variable density visco- acoustic isotropic modeling operator -- Nonlinear Ops*\n",
    "[ssa_01_iso_implementation1.ipynb](ssa_01_iso_implementation1.ipynb)\n",
    "<br>Implement the nonlinear modeling operations. \n",
    "\n",
    "2. *Implementation of a Devito skew self adjoint variable density visco- acoustic isotropic modeling operator -- Linearized Ops*\n",
    "[ssa_02_iso_implementation2.ipynb](ssa_02_iso_implementation2.ipynb)\n",
    "<br>Implement the linearized (Jacobian) ```forward``` and ```adjoint``` modeling operations.\n",
    "\n",
    "3. *Implementation of a Devito skew self adjoint variable density visco- acoustic isotropic modeling operator -- Correctness Testing*\n",
    "[ssa_03_iso_correctness.ipynb](ssa_03_iso_correctness.ipynb)\n",
    "<br>Tests the correctness of the implemented operators.\n",
    "\n",
    "There are similar series of notebooks implementing and testing operators for VTI and TTI anisotropy ([README.md](README.md)).\n",
    "\n",
    "Below we describe a suite of unit tests that prove correctness for our *skew self adjoint* operators.\n",
    "\n",
    "## Outline \n",
    "1. Define symbols [[link]](#c_symbols) \n",
    "2. Definition of correctness tests [[link]](#c_howto) \n",
    "1. Analytic response in the far field [[link]](\"#c_analytic\")\n",
    "2. Modeling operator linearity test, with respect to source [[link]](\"#c_F_linearity\")\n",
    "3. Modeling operator adjoint test, with respect to source [[link]](\"#c_F_adjoint\")\n",
    "4. Nonlinear operator linearization test, with respect to model [[link]](\"#c_F_linearization\")\n",
    "5. Jacobian operator linearity test, with respect to model [[link]](\"#c_J_linearity\")\n",
    "6. Jacobian operator adjoint test, with respect to model [[link]](\"#c_J_adjoint\")\n"
   ]
  },
  {
   "cell_type": "markdown",
   "metadata": {},
   "source": [
    "<a id=\"c_symbols\"></a>\n",
    "## Table of symbols\n",
    "\n",
    "Note we are only showing the symbols here relevant to the correctness tests, for more detail on notations see the implementation notebooks that precede this one.\n",
    "\n",
    "| Symbol &nbsp; &nbsp; &nbsp; &nbsp; &nbsp; &nbsp; &nbsp; &nbsp; &nbsp; &nbsp; &nbsp; &nbsp; &nbsp; &nbsp; &nbsp; &nbsp; &nbsp; | Description  | Dimensionality | \n",
    "|:---|:---|:---|\n",
    "| $m(x,y,z)$ | Total P wave velocity ($m_0+\\delta m$) | function of space |\n",
    "| $m_0(x,y,z)$ | Reference P wave velocity    | function of space |\n",
    "| $\\delta m(x,y,z)$ | Perturbation to P wave velocity    | function of space |\n",
    "| $u(t,x,y,z)$ | Total pressure wavefield ($u_0+\\delta u$)| function of time and space |\n",
    "| $u_0(t,x,y,z)$ | Reference pressure wavefield | function of time and space |\n",
    "| $\\delta u(t,x,y,z)$ | Perturbation to pressure wavefield | function of time and space |\n",
    "| $s(t,x,y,z)$ | Source wavefield | function of time, localized in space to source location |\n",
    "| $r(t,x,y,z)$ | Receiver wavefield | function of time, localized in space to receiver locations |\n",
    "| $\\delta r(t,x,y,z)$ | Receiver wavefield perturbation | function of time, localized in space to receiver locations |\n",
    "| $A\\ u$ | Wave-equation operator | Linear in $u$: $\\quad A\\ u = s$ |\n",
    "| $A^{-1} s$ | Wave-equation solution operator | Linear in $s$: $\\quad A^{-1} s = u$ |\n",
    "| $F[m]\\ s$ | Restricted Forward modeling operator | Nonlinear in $m$, Linear in $s$: $\\quad r = P_r\\ A^{-1} P_s^\\top\\ s$ |\n",
    "| $F[m]^\\top\\ r$ | Restricted Adjoint modeling operator | Nonlinear in $m$, Linear in $r$: $\\quad s = P_s\\ A^{-\\top}\\ P_r^\\top\\ r$ |\n",
    "| $P_s$, $P_s^\\top$ | Source interpolation operator, adjoint | Linear in $s$: $\\quad s = P_s\\ A^{-\\top}\\ P_r^\\top\\ r$ |\n",
    "| $P_r$, $P_r^\\top$ | Receiver interpolation operator, adjoint | Linear in $r$: $\\quad r = P_r\\ A^{-1} P_s^\\top$ |\n",
    "| $F[m; s]$ | Forward nonlinear modeling operator | Nonlinear in $[m; s]$: $\\quad$ maps $m \\rightarrow r$ |\n",
    "| $\\nabla F[m; s]\\ \\delta m$ | Forward Jacobian modeling operator | Linearized at $[m; s]$: $\\quad$ maps $\\delta m \\rightarrow \\delta r$ |\n",
    "| $\\bigl( \\nabla F\\bigr)^\\top[m; s]\\ \\delta r$ | Adjoint Jacobian modeling operator | Linearized at $[m; s]$: $\\quad$ maps $\\delta r \\rightarrow \\delta m$ |"
   ]
  },
  {
   "cell_type": "markdown",
   "metadata": {},
   "source": [
    "<a id=\"c_howto\"></a>\n",
    "## Definition of correctness tests\n",
    "\n",
    "We believe that if an operator passes the following suite of unit tests, it can be considered to be *righteous*.\n",
    "\n",
    "## 1. Analytic response in the far field\n",
    "Test that data generated in a wholespace matches analogous analytic data away from the near field. We re-use the material shown in the [examples/seismic/acoustic/accuracy.ipynb](https://github.com/devitocodes/devito/blob/master/examples/seismic/acoustic/accuracy.ipynb) notebook. \n",
    "<br>\n",
    "\n",
    "## 2. Modeling operator linearity test, with respect to source\n",
    "For random vectors $s$ and $r$, prove:\n",
    "\n",
    "$$\n",
    "\\begin{aligned}\n",
    "F[m]\\ (\\alpha\\ s) &\\approx \\alpha\\ F[m]\\ s \\\\[5pt]\n",
    "F[m]^\\top (\\alpha\\ r) &\\approx \\alpha\\ F[m]^\\top r \\\\[5pt]\n",
    "\\end{aligned}\n",
    "$$\n",
    "\n",
    "<br>\n",
    "\n",
    "## 3. Modeling operator adjoint test, with respect to source\n",
    "For random vectors $s$ and $r$, prove:\n",
    "\n",
    "$$\n",
    "r \\cdot F[m]\\ s \\approx s \\cdot F[m]^\\top r\n",
    "$$\n",
    "\n",
    "<br>\n",
    "\n",
    "## 4. Nonlinear operator linearization test, with respect to model\n",
    "For initial velocity model $m$ and random perturbation $\\delta m$ prove that the $L_2$ norm error in the linearization $E(h)$ is second order (decreases quadratically) with the magnitude of the perturbation.\n",
    "\n",
    "$$\n",
    "E(h) = \\biggl\\|\\ f(m+h\\ \\delta m) - f(m) - h\\ \\nabla F[m]\\ \\delta m\\ \\biggr\\|\n",
    "$$\n",
    "\n",
    "One way to do this is to run a suite of $h$ values decreasing by a factor of $\\gamma$, and prove the error decreases by a factor of $\\gamma^2$:  \n",
    "\n",
    "$$\n",
    "\\frac{E\\left(h\\right)}{E\\left(h/\\gamma\\right)} \\approx \\gamma^2\n",
    "$$\n",
    "\n",
    "Elsewhere in Devito tutorials, this relation is proven by fitting a line to a sequence of $E(h)$ for various $h$ and showing second order error decrease.\n",
    "\n",
    "<br>\n",
    "\n",
    "## 5. Jacobian operator linearity test, with respect to model\n",
    "For initial velocity model $m$ and random vectors $\\delta m$ and $\\delta r$, prove:\n",
    "\n",
    "$$\n",
    "\\begin{aligned}\n",
    "\\nabla F[m]\\ (\\alpha\\ \\delta m) &\\approx \\alpha\\ \\nabla F[m]\\ \\delta m \\\\[5pt]\n",
    "(\\nabla F[m])^\\top (\\alpha\\ \\delta r) &\\approx \\alpha\\ (\\nabla F[m])^\\top \\delta r\n",
    "\\end{aligned}\n",
    "$$\n",
    "\n",
    "<br>\n",
    "\n",
    "## 6. Jacobian operator adjoint test, with respect to model\n",
    "For initial velocity model $m$ and random vectors $\\delta m$ and $\\delta r$, prove:\n",
    "\n",
    "$$\n",
    "\\delta r \\cdot \\nabla F[m]\\ \\delta m \\approx \\delta m \\cdot (\\nabla F[m])^\\top \\delta r\n",
    "$$\n",
    "\n",
    "<br>\n",
    "\n",
    "## Skew symmetry test for shifted derivatives\n",
    "In addition to these tests, recall that in the first notebook ([ssa_01_iso_implementation1.ipynb](ssa_01_iso_implementation1.ipynb)) we implemented a unit test that demonstrates skew symmetry of the Devito generated shifted derivatives. We include that test in our suite of unit tests for completeness. Please see the first notebook for that demonstration, verifying the following relation:\n",
    "\n",
    "$$\n",
    "x_2 \\cdot \\left( \\overrightarrow{\\partial_x}\\ x_1 \\right) \\approx -\\ \n",
    "x_1 \\cdot \\left( \\overleftarrow{\\partial_x}\\ x_2 \\right) \n",
    "$$"
   ]
  },
  {
   "cell_type": "markdown",
   "metadata": {},
   "source": [
    "## Implementation of correctness tests\n",
    "\n",
    "Below we implement the correctness tests described above. These tests are copied from standalone tests that run in the Devito project *continuous integration* (CI) pipeline. We will implement the test methods in one cell and then call from the next cell to verify correctness, but note that a wider variety of parameterization is tested in the CI pipeline.\n",
    "\n",
    "For these tests we use the convenience functions implemented in ```operators.py``` and ```wavesolver.py``` rather than implement the operators in the notebook as we have in the first two notebooks in this series. Please review the source to compare with our notebook implementations:\n",
    "- [operators.py](operators.py)\n",
    "- [wavesolver.py](wavesolver.py)"
   ]
  },
  {
   "cell_type": "markdown",
   "metadata": {},
   "source": [
    "## Imports \n",
    "\n",
    "We have grouped all imports used in this notebook here for consistency."
   ]
  },
  {
   "cell_type": "code",
   "execution_count": 1,
   "metadata": {},
   "outputs": [],
   "source": [
    "import numpy as np\n",
    "from examples.seismic import RickerSource, Receiver, TimeAxis\n",
    "from devito import (Grid, Function, TimeFunction, SpaceDimension, Constant, \n",
    "                    Eq, Operator, solve, configuration)\n",
    "from devito.finite_differences import Derivative\n",
    "from devito.builtins import gaussian_smooth\n",
    "from examples.seismic.skew_self_adjoint import *\n",
    "import matplotlib as mpl\n",
    "import matplotlib.pyplot as plt\n",
    "from matplotlib import cm\n",
    "from timeit import default_timer as timer\n",
    "\n",
    "# These lines force images to be displayed in the notebook, and scale up fonts \n",
    "%matplotlib inline\n",
    "mpl.rc('font', size=14)\n",
    "\n",
    "# Make white background for plots, not transparent\n",
    "plt.rcParams['figure.facecolor'] = 'white'\n",
    "\n",
    "# We define 32 bit floating point as the precision type \n",
    "dtype = np.float32\n",
    "\n",
    "# Set the default language to openmp\n",
    "configuration['language'] = 'openmp'\n",
    "\n",
    "# Set logging to debug, captures statistics on the performance of operators\n",
    "configuration['log-level'] = 'DEBUG'"
   ]
  },
  {
   "cell_type": "markdown",
   "metadata": {},
   "source": [
    "## Create a 2D model to use for testing\n",
    "\n",
    "#### Model details:\n",
    "- Size (500,500)\n",
    "- Absorbing boundaries of 50 cells on all sides\n",
    "- Source at the top left corner\n",
    "- Line of receivers across top of model 1 cell below the source (excluding absorbing boundary)\n",
    "- Constant velocity (1500 m/s) and constant density (1000 kg/m^3)\n",
    "- Time range 2 seconds at sample rate defined by CFL stability"
   ]
  },
  {
   "cell_type": "code",
   "execution_count": 2,
   "metadata": {},
   "outputs": [
    {
     "ename": "NameError",
     "evalue": "name 'shape' is not defined",
     "output_type": "error",
     "traceback": [
      "\u001b[0;31m---------------------------------------------------------------------------\u001b[0m",
      "\u001b[0;31mNameError\u001b[0m                                 Traceback (most recent call last)",
      "\u001b[0;32m<ipython-input-2-48a44408dbdb>\u001b[0m in \u001b[0;36m<module>\u001b[0;34m\u001b[0m\n\u001b[1;32m      2\u001b[0m \u001b[0md\u001b[0m \u001b[0;34m=\u001b[0m \u001b[0;36m10.0\u001b[0m\u001b[0;34m\u001b[0m\u001b[0;34m\u001b[0m\u001b[0m\n\u001b[1;32m      3\u001b[0m \u001b[0;34m\u001b[0m\u001b[0m\n\u001b[0;32m----> 4\u001b[0;31m \u001b[0morigin\u001b[0m \u001b[0;34m=\u001b[0m \u001b[0mtuple\u001b[0m\u001b[0;34m(\u001b[0m\u001b[0;34m[\u001b[0m\u001b[0;36m0.0\u001b[0m \u001b[0;34m-\u001b[0m \u001b[0md\u001b[0m \u001b[0;34m*\u001b[0m \u001b[0mnpad\u001b[0m \u001b[0;32mfor\u001b[0m \u001b[0ms\u001b[0m \u001b[0;32min\u001b[0m \u001b[0mshape\u001b[0m\u001b[0;34m]\u001b[0m\u001b[0;34m)\u001b[0m\u001b[0;34m\u001b[0m\u001b[0;34m\u001b[0m\u001b[0m\n\u001b[0m\u001b[1;32m      5\u001b[0m \u001b[0mextent\u001b[0m \u001b[0;34m=\u001b[0m \u001b[0mtuple\u001b[0m\u001b[0;34m(\u001b[0m\u001b[0;34m[\u001b[0m\u001b[0md\u001b[0m \u001b[0;34m*\u001b[0m \u001b[0;34m(\u001b[0m\u001b[0ms\u001b[0m \u001b[0;34m-\u001b[0m \u001b[0;36m1\u001b[0m\u001b[0;34m)\u001b[0m \u001b[0;32mfor\u001b[0m \u001b[0ms\u001b[0m \u001b[0;32min\u001b[0m \u001b[0mshape\u001b[0m\u001b[0;34m]\u001b[0m\u001b[0;34m)\u001b[0m\u001b[0;34m\u001b[0m\u001b[0;34m\u001b[0m\u001b[0m\n\u001b[1;32m      6\u001b[0m \u001b[0;34m\u001b[0m\u001b[0m\n",
      "\u001b[0;31mNameError\u001b[0m: name 'shape' is not defined"
     ]
    }
   ],
   "source": [
    "nx, nz = 501, 501\n",
    "d = 10.0 \n",
    "\n",
    "origin = tuple([0.0 - d * npad for s in shape])\n",
    "extent = tuple([d * (s - 1) for s in shape])\n",
    "\n",
    "x = SpaceDimension(name='x', spacing=Constant(name='h_x', value=d))\n",
    "z = SpaceDimension(name='z', spacing=Constant(name='h_z', value=d))\n",
    "grid = Grid(extent=extent, shape=shape, origin=origin, dimensions=(x, z), dtype=dtype)\n",
    "\n",
    "v = Function(name='v', grid=grid)\n",
    "v.data[:] = vvalue\n",
    "\n",
    "b = Function(name='b', grid=grid)\n",
    "b.data[:] = bvalue\n",
    "\n",
    "dt = critical_dt(v)\n",
    "time_axis = TimeAxis(start=tmin, stop=tmax, step=dt)\n",
    "\n",
    "nr = shape[0] - 2 * npad\n",
    "src = RickerSource(name='src', grid=grid, f0=fpeak, npoint=1, time_range=time_axis)\n",
    "rec = Receiver(name='rec', grid=grid, npoint=nr, time_range=time_axis)\n",
    "\n",
    "src.coordinates.data[0, 0] = 0.0\n",
    "src.coordinates.data[0, 1] = 0.0\n",
    "\n",
    "rec.coordinates.data[:, 0] = np.linspace(0.0, d * (nr - 1), nr)\n",
    "rec.coordinates.data[:, 1] = np.ones(nr, dtype=np.float32) * d"
   ]
  },
  {
   "cell_type": "markdown",
   "metadata": {},
   "source": [
    "<a id=\"c_analytic\"></a>\n",
    "## 1. Analytic response in the far field\n",
    "Test that data generated in a wholespace matches analogous analytic data away from the near field. We re-use the material shown in the [examples/seismic/acoustic/accuracy.ipynb](https://github.com/devitocodes/devito/blob/master/examples/seismic/acoustic/accuracy.ipynb) notebook. "
   ]
  },
  {
   "cell_type": "code",
   "execution_count": null,
   "metadata": {},
   "outputs": [],
   "source": []
  },
  {
   "cell_type": "markdown",
   "metadata": {},
   "source": [
    "<a id=\"c_F_linearity\"></a>\n",
    "## 2. Modeling operator linearity test, with respect to source\n",
    "For random vectors $s$ and $r$, prove:\n",
    "\n",
    "$$\n",
    "\\begin{aligned}\n",
    "F[m]\\ (\\alpha\\ s) &\\approx \\alpha\\ F[m]\\ s \\\\[5pt]\n",
    "F[m]^\\top (\\alpha\\ r) &\\approx \\alpha\\ F[m]^\\top r \\\\[5pt]\n",
    "\\end{aligned}\n",
    "$$\n",
    "\n",
    "<br>\n"
   ]
  },
  {
   "cell_type": "code",
   "execution_count": null,
   "metadata": {},
   "outputs": [],
   "source": []
  },
  {
   "cell_type": "markdown",
   "metadata": {},
   "source": [
    "<a id=\"c_F_adjoint\"></a>\n",
    "## 3. Modeling operator adjoint test, with respect to source\n",
    "For random vectors $s$ and $r$, prove:\n",
    "\n",
    "$$\n",
    "r \\cdot F[m]\\ s \\approx s \\cdot F[m]^\\top r\n",
    "$$\n",
    "\n",
    "<br>\n"
   ]
  },
  {
   "cell_type": "code",
   "execution_count": null,
   "metadata": {},
   "outputs": [],
   "source": []
  },
  {
   "cell_type": "markdown",
   "metadata": {},
   "source": [
    "<a id=\"c_F_linearization\"></a>\n",
    "## 4. Nonlinear operator linearization test, with respect to model\n",
    "For initial velocity model $m$ and random perturbation $\\delta m$ prove that the $L_2$ norm error in the linearization $E(h)$ is second order (decreases quadratically) with the magnitude of the perturbation.\n",
    "\n",
    "$$\n",
    "E(h) = \\biggl\\|\\ f(m+h\\ \\delta m) - f(m) - h\\ \\nabla F[m]\\ \\delta m\\ \\biggr\\|\n",
    "$$\n",
    "\n",
    "One way to do this is to run a suite of $h$ values decreasing by a factor of $\\gamma$, and prove the error decreases by a factor of $\\gamma^2$:  \n",
    "\n",
    "$$\n",
    "\\frac{E\\left(h\\right)}{E\\left(h/\\gamma\\right)} \\approx \\gamma^2\n",
    "$$\n",
    "\n",
    "Elsewhere in Devito tutorials, this relation is proven by fitting a line to a sequence of $E(h)$ for various $h$ and showing second order error decrease.\n",
    "\n",
    "<br>\n"
   ]
  },
  {
   "cell_type": "code",
   "execution_count": null,
   "metadata": {},
   "outputs": [],
   "source": []
  },
  {
   "cell_type": "markdown",
   "metadata": {},
   "source": [
    "<a id=\"c_J_linearity\"></a>\n",
    "## 5. Jacobian operator linearity test, with respect to model\n",
    "For initial velocity model $m$ and random vectors $\\delta m$ and $\\delta r$, prove:\n",
    "\n",
    "$$\n",
    "\\begin{aligned}\n",
    "\\nabla F[m]\\ (\\alpha\\ \\delta m) &\\approx \\alpha\\ \\nabla F[m]\\ \\delta m \\\\[5pt]\n",
    "(\\nabla F[m])^\\top (\\alpha\\ \\delta r) &\\approx \\alpha\\ (\\nabla F[m])^\\top \\delta r\n",
    "\\end{aligned}\n",
    "$$\n",
    "\n",
    "<br>\n"
   ]
  },
  {
   "cell_type": "code",
   "execution_count": null,
   "metadata": {},
   "outputs": [],
   "source": []
  },
  {
   "cell_type": "markdown",
   "metadata": {},
   "source": [
    "<a id=\"c_J_adjoint\"></a>\n",
    "## 6. Jacobian operator adjoint test, with respect to model\n",
    "For initial velocity model $m$ and random vectors $\\delta m$ and $\\delta r$, prove:\n",
    "\n",
    "$$\n",
    "\\delta r \\cdot \\nabla F[m]\\ \\delta m \\approx \\delta m \\cdot (\\nabla F[m])^\\top \\delta r\n",
    "$$\n",
    "\n",
    "<br>\n"
   ]
  },
  {
   "cell_type": "code",
   "execution_count": null,
   "metadata": {},
   "outputs": [],
   "source": []
  }
 ],
 "metadata": {
  "anaconda-cloud": {},
  "kernelspec": {
   "display_name": "Python 3",
   "language": "python",
   "name": "python3"
  },
  "language_info": {
   "codemirror_mode": {
    "name": "ipython",
    "version": 3
   },
   "file_extension": ".py",
   "mimetype": "text/x-python",
   "name": "python",
   "nbconvert_exporter": "python",
   "pygments_lexer": "ipython3",
   "version": "3.8.2"
  }
 },
 "nbformat": 4,
 "nbformat_minor": 4
}
