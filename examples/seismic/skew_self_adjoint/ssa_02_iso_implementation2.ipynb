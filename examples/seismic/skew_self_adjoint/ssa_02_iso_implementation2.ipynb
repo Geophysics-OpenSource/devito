{
 "cells": [
  {
   "cell_type": "markdown",
   "metadata": {},
   "source": [
    "# Implementation of a Devito skew self adjoint variable density visco- acoustic isotropic modeling operator <br>-- Linearized Ops --\n",
    "\n",
    "## This operator is contributed by Chevron Energy Technology Company (2020)\n",
    "\n",
    "This operator is based on simplfications of the systems presented in:\n",
    "<br>**Self-adjoint, energy-conserving second-order pseudoacoustic systems for VTI and TTI media for reverse time migration and full-waveform inversion** (2016)\n",
    "<br>Kenneth Bube, John Washbourne, Raymond Ergas, and Tamas Nemeth\n",
    "<br>SEG Technical Program Expanded Abstracts\n",
    "<br>https://library.seg.org/doi/10.1190/segam2016-13878451.1"
   ]
  },
  {
   "cell_type": "markdown",
   "metadata": {},
   "source": [
    "## Introduction \n",
    "\n",
    "The goal of this tutorial set is to generate and prove correctness of modeling and inversion capability in Devito for variable density visco- acoustics using an energy conserving form of the wave equation. We describe how the linearization of the energy conserving *skew self adjoint* system with respect to modeling parameters allows using the same modeling system for all nonlinear and linearized forward and adjoint finite difference evolutions. \n",
    "\n",
    "There are three notebooks in this series:\n",
    "\n",
    "1. *Implementation of a Devito skew self adjoint variable density visco- acoustic isotropic modeling operator -- Nonlinear Ops*\n",
    "[ssa_01_iso_implementation1.ipynb](ssa_01_iso_implementation1.ipynb)\n",
    "<br>Implement the nonlinear modeling operations. \n",
    "\n",
    "2. *Implementation of a Devito skew self adjoint variable density visco- acoustic isotropic modeling operator -- Linearized Ops*\n",
    "[ssa_02_iso_implementation2.ipynb](ssa_02_iso_implementation2.ipynb)\n",
    "<br>Implement the linearized (Jacobian) ```forward``` and ```adjoint``` modeling operations.\n",
    "\n",
    "3. *Implementation of a Devito skew self adjoint variable density visco- acoustic isotropic modeling operator -- Correctness Testing*\n",
    "[ssa_03_iso_correctness.ipynb](ssa_03_iso_correctness.ipynb)\n",
    "<br>Tests the correctness of the implemented operators.\n",
    "\n",
    "There are similar series of notebooks implementing and testing operators for VTI and TTI anisotropy ([README.md](README.md)).\n",
    "\n",
    "Below we continue with our *skew self adjoint* wave equation with dissipation only Q attenuation, and linearize the modeling operator with respect to the model parameters (velocity). We show how to implement finite difference evolutions to compute the action of the ```forward``` and ```adjoint``` Jacobian. \n",
    "\n",
    "## Outline \n",
    "1. Define symbols [[link]](#ln_symbols) \n",
    "2. The linearization [[link]](#ln_linearization) \n",
    "3. Create the Devito grid and model fields [[link]](#ln_grid_and_model) \n",
    "4. Implement the linearized forward operator [[link]](#ln_linearized_forward) \n",
    "5. Exercise the linearized forward operator [[link]](#ln_linearized_forward_run) \n",
    "6. Implement the linearized adjoint operator [[link]](#ln_linearized_adjoint) \n",
    "7. Exercise the linearized adjoint operator [[link]](#ln_linearized_adjoint_run) "
   ]
  },
  {
   "cell_type": "markdown",
   "metadata": {},
   "source": [
    "<a id=\"ln_symbols\"></a>\n",
    "## Table of symbols\n",
    "\n",
    "There are many more symbols to deal with for the linearization and Jacobian than we had in the previous notebook. We need to introduce the wave equation operator and adjoint, source and receiver interpolation operators and adjoints, terminology for the nonlinear operator, as well as total, background and perturbation fields for several variables.  \n",
    "\n",
    "| Symbol &nbsp; &nbsp; &nbsp; &nbsp; &nbsp; &nbsp; &nbsp; &nbsp; &nbsp; &nbsp; &nbsp; | Description  | Dimensionality | \n",
    "|:---|:---|:---|\n",
    "| $\\overleftarrow{\\partial_t}$ | shifted first derivative wrt $t$ | shifted 1/2 sample backward in time |\n",
    "| $\\partial_{tt}$ | centered second derivative wrt $t$ | centered in time |\n",
    "| $\\overrightarrow{\\partial_x},\\ \\overrightarrow{\\partial_y},\\ \\overrightarrow{\\partial_z}$ | + shifted first derivative wrt $x,y,z$ | shifted 1/2 sample forward in space |\n",
    "| $\\overleftarrow{\\partial_x},\\ \\overleftarrow{\\partial_y},\\ \\overleftarrow{\\partial_z}$ | - shifted first derivative wrt $x,y,z$ | shifted 1/2 sample backward in space |\n",
    "| $\\omega_c = 2 \\pi f$ | center angular frequency | constant |\n",
    "| $b(x,y,z)$   | buoyancy $(1 / \\rho)$ | function of space |\n",
    "| $Q(x,y,z)$   | Attenuation at frequency $\\omega_c$ | function of space |\n",
    "| $m(x,y,z)$ | Total P wave velocity ($m_0+\\delta m$) | function of space |\n",
    "| $m_0(x,y,z)$ | Background P wave velocity    | function of space |\n",
    "| $\\delta m(x,y,z)$ | Perturbation to P wave velocity    | function of space |\n",
    "| $u(t,x,y,z)$ | Total pressure wavefield ($u_0+\\delta u$)| function of time and space |\n",
    "| $u_0(t,x,y,z)$ | Background pressure wavefield | function of time and space |\n",
    "| $\\delta u(t,x,y,z)$ | Perturbation to pressure wavefield | function of time and space |\n",
    "| $s(t,x,y,z)$ | Source wavefield | function of time, localized in space to source location |\n",
    "| $r(t,x,y,z)$ | Receiver wavefield | function of time, localized in space to receiver locations |\n",
    "| $\\delta r(t,x,y,z)$ | Receiver wavefield perturbation | function of time, localized in space to receiver locations |\n",
    "| $A\\ u$ | Wave-equation operator | Linear in $u$: $\\quad A\\ u = s$ |\n",
    "| $A^{-1} s$ | Wave-equation solution operator | Linear in $s$: $\\quad A^{-1} s = u$ |\n",
    "| $F[m]\\ s$ | Restricted Forward modeling operator | Nonlinear in $m$, Linear in $s$: $\\quad r = P_r\\ A^{-1} P_s^\\top\\ s$ |\n",
    "| $F[m]^\\top\\ r$ | Restricted Adjoint modeling operator | Nonlinear in $m$, Linear in $r$: $\\quad s = P_s\\ A^{-\\top}\\ P_r^\\top\\ r$ |\n",
    "| $P_s$, $P_s^\\top$ | Source interpolation operator, adjoint | Linear in $s$: $\\quad s = P_s\\ A^{-\\top}\\ P_r^\\top\\ r$ |\n",
    "| $P_r$, $P_r^\\top$ | Receiver interpolation operator, adjoint | Linear in $r$: $\\quad r = P_r\\ A^{-1} P_s^\\top$ |\n",
    "| $F[m; s]$ | Forward nonlinear modeling operator | Nonlinear in $[m; s]$: $\\quad$ maps $m \\rightarrow r$ |\n",
    "| $\\nabla F[m; s]\\ \\delta m$ | Forward Jacobian modeling operator | Linearized at $[m; s]$: $\\quad$ maps $\\delta m \\rightarrow \\delta r$ |\n",
    "| $\\bigl( \\nabla F\\bigr)^\\top[m; s]\\ \\delta r$ | Adjoint Jacobian modeling operator | Linearized at $[m; s]$: $\\quad$ maps $\\delta r \\rightarrow \\delta m$ |"
   ]
  },
  {
   "cell_type": "markdown",
   "metadata": {},
   "source": [
    "## A word about notation \n",
    "\n",
    "We use the arrow symbols over derivatives $\\overrightarrow{\\partial_x}$ as a shorthand notation to indicate that the derivative is taken at a shifted location. For example:\n",
    "\n",
    "- $\\overrightarrow{\\partial_x} u(t,x,y,z)$ indicates that the $x$ derivative of $u(t,x,y,z)$ is taken at $u(t,x+\\frac{\\Delta x}{2},y,z)$.\n",
    "\n",
    "- $\\overleftarrow{\\partial_z} u(t,x,y,z)$ indicates that the $z$ derivative of $u(t,x,y,z)$ is taken at $u(t,x,y,z-\\frac{\\Delta z}{2})$.\n",
    "\n",
    "- $\\overleftarrow{\\partial_t} u(t,x,y,z)$ indicates that the $t$ derivative of $u(t,x,y,z)$ is taken at $u(t-\\frac{\\Delta t}{2},x,y,z)$.\n",
    "\n",
    "We usually drop the $(t,x,y,z)$ notation from wavefield variables unless required for clarity of exposition, so that $u(t,x,y,z)$ becomes $u$.\n",
    "\n",
    "We introduce $A$ and $A^{-1}$ as the *wave equation operator* and its' inverse the *wave equation solution operator*. Consider the *wave equation operator* $A$ as acting on a fixed wavefield $u$ to produce the source wavefield $s$. Similarly, consider the *wave equation solution operator* $A^{-1}$ as acting on a fixed source wavefield $s$ to produce the wavefield $u$. \n",
    "\n",
    "Once we have $A$ and $A^{-1}$ we can write the notation for the forward modeling operator that maps from a source vector $s$ to a receiver vector $r$ via interpolations of wavefields. We use $P$ to indicate an interpolation operator, and subscripts $s, r$ to indicate whether the interpolation acts on source or receiver wavefields. The forward modeling operator then, mapping a source wavefield $s$ to a reciever wavefield $r$ is written:\n",
    "\n",
    "$$\n",
    "r = F[m]\\ s = P_r\\ A^{-1} P_s^\\top\\ s\n",
    "$$\n",
    "\n",
    "And similarly the adjoint modeling operator mapping from receiver wavefield $r$ to source wavefield $s$:\n",
    "\n",
    "$$\n",
    "s = F[m]^\\top\\ r = P_s\\ A^{-\\top}\\ P_r^\\top\\ r\n",
    "$$\n",
    "\n",
    "For these two cases above we consider $F$ to be *linear*. Next we move on the *nonlinear* operator $F[m;\\ s]$. The operator $F$ is nonlinear in $m$ (left of the semicolon in the brackets), and linear in $s$ (right of the semicolor in the brackets).\n",
    "\n",
    "Finally the Jacobian of the nonlinear modeling operator is written as $\\nabla F[m;\\ s]$, and the adjoint Jacobian as $\\bigl( \\nabla F[m;\\ s]\\bigr)^\\top$."
   ]
  },
  {
   "cell_type": "markdown",
   "metadata": {},
   "source": [
    "## The Nonlinear operator\n",
    "\n",
    "The nonlinear operator is the solution to the skew self adjoint scalar isotropic variable density visco- acoustic wave equation shown immediately below, and maps the velocity model vector $m$ into the receiver wavefield vector $r$.\n",
    "\n",
    "$$\n",
    "\\frac{b}{m^2} \\left( \\frac{\\omega_c}{Q}\\overleftarrow{\\partial_t}\\ u + \\partial_{tt}\\ u \\right) =\n",
    "    \\overleftarrow{\\partial_x}\\left(b\\ \\overrightarrow{\\partial_x}\\ u \\right) +\n",
    "    \\overleftarrow{\\partial_y}\\left(b\\ \\overrightarrow{\\partial_y}\\ u \\right) +\n",
    "    \\overleftarrow{\\partial_z}\\left(b\\ \\overrightarrow{\\partial_z}\\ u \\right) + s \n",
    "$$"
   ]
  },
  {
   "cell_type": "markdown",
   "metadata": {},
   "source": [
    "<a id=\"ln_linearization\"></a>\n",
    "## The Jacobian operator\n",
    "\n",
    "In this section we linearize about a background model and take the derivative of the nonlinear operator to obtain the Jacobian forward operator. The Jacobian operator maps a perturbation in the velocity model $\\delta m$ into a perturbation in the receiver wavefield $\\delta r$.\n",
    "\n",
    "#### 1. We begin by simplifying notation \n",
    "To simplify the treatment below we introduce the operator $L_t[\\cdot]$, accounting for the time derivatives inside the parentheses on the left hand side of the wave equation. \n",
    "\n",
    "$$\n",
    "L_t[\\cdot] \\equiv \\frac{\\omega_c}{Q} \\overleftarrow{\\partial_t}[\\cdot] + \\partial_{tt}[\\cdot]\n",
    "$$\n",
    "\n",
    "Next we re-write the wave equation using this notation.\n",
    "\n",
    "$$\n",
    "\\frac{b}{m^2} L_t[u] =\n",
    "    \\overleftarrow{\\partial_x}\\left(b\\ \\overrightarrow{\\partial_x}\\ u \\right) +\n",
    "    \\overleftarrow{\\partial_y}\\left(b\\ \\overrightarrow{\\partial_y}\\ u \\right) +\n",
    "    \\overleftarrow{\\partial_z}\\left(b\\ \\overrightarrow{\\partial_z}\\ u \\right) + s \n",
    "$$\n",
    "\n",
    "#### 2. Linearize\n",
    "To linearize we treat the total model as the sum of background and perturbation models $\\left(m = m_0 + \\delta m\\right)$, and the total pressure as the sum of background and perturbation pressures $\\left(p = p_0 + \\delta u\\right)$.\n",
    "\n",
    "$$\n",
    "\\frac{b}{(m_0+\\delta m)^2} L_t[u_0+\\delta u] =\n",
    "    \\overleftarrow{\\partial_x}\\left(b\\ \\overrightarrow{\\partial_x} (u_0+\\delta u) \\right) +\n",
    "    \\overleftarrow{\\partial_y}\\left(b\\ \\overrightarrow{\\partial_y} (u_0+\\delta u) \\right) +\n",
    "    \\overleftarrow{\\partial_z}\\left(b\\ \\overrightarrow{\\partial_z} (u_0+\\delta u) \\right) + s \n",
    "$$\n",
    "\n",
    "Note that *model parameters* for this variable density isotropic visco-acoustic physics is only velocity, we do not treat perturbations to density.\n",
    "\n",
    "We also write the PDE for the background model, which we subtract after linearization to simplfy the final expression. \n",
    "\n",
    "$$\n",
    "\\frac{b}{m_0^2} L_t[u_0] =\n",
    "    \\overleftarrow{\\partial_x}\\left(b\\ \\overrightarrow{\\partial_x} u_0 \\right) +\n",
    "    \\overleftarrow{\\partial_y}\\left(b\\ \\overrightarrow{\\partial_y} u_0 \\right) +\n",
    "    \\overleftarrow{\\partial_z}\\left(b\\ \\overrightarrow{\\partial_z} u_0 \\right) + s \n",
    "$$\n",
    "\n",
    "#### 3. Take derivative w.r.t. model parameters\n",
    "Next we take the derivative with respect to velocity, keep only terms up to first order in the perturbations, subtract the background model PDE equation, and finally arrive at the following linearized equation:\n",
    "\n",
    "$$\n",
    "\\frac{b}{m_0^2} L_t\\left[\\delta u\\right] =\n",
    "    \\overleftarrow{\\partial_x}\\left(b\\ \\overrightarrow{\\partial_x} \\delta u \\right) +\n",
    "    \\overleftarrow{\\partial_y}\\left(b\\ \\overrightarrow{\\partial_y} \\delta u \\right) +\n",
    "    \\overleftarrow{\\partial_z}\\left(b\\ \\overrightarrow{\\partial_z} \\delta u \\right) + \n",
    "    \\frac{2\\ b\\ \\delta m}{m_0^3} L_t\\left[p_0\\right]\n",
    "$$\n",
    "\n",
    "Note that the source $s$ in the original equation above has disappeared due to subtraction of the background PDE, and has been replaced by the *Born source*: \n",
    "\n",
    "$$\n",
    "\\frac{\\displaystyle 2\\ b\\ \\delta m}{\\displaystyle m_0^3} L_t\\left[p_0\\right]\n",
    "$$\n",
    "\n",
    "This is the same equation as used for the nonlinear forward, only now in the perturbed wavefield $\\delta u$ and with the Born source."
   ]
  },
  {
   "cell_type": "markdown",
   "metadata": {},
   "source": [
    "## The adjoint of the Jacobian operator\n",
    "\n",
    "In this section we introduce the adjoint of the Jacobian operator we derived above. The Jacobian adjoint operator maps a perturbation in receiver wavefield $\\delta r$ into a perturbation in velocity model $\\delta m$.\n",
    "\n",
    "#### 1. Solve the time reversed wave equation with the receiver perturbation as source\n",
    "The PDE for the adjoint of the Jacobian is solved for the perturbation to the pressure wavefield $\\delta u$ by using the same wave equation as the nonlinear forward and the Jacobian forward, with the time reversed receiver wavefield perturbation $\\widetilde{\\delta r}$ injected as source. \n",
    "\n",
    "Note that we use $\\widetilde{\\delta u}$ and $\\widetilde{\\delta r}$ to indicate that we solve this finite difference evolution time reversed.\n",
    "\n",
    "$$\n",
    "\\frac{b}{m_0^2} L_t\\left[\\widetilde{\\delta u}\\right] =\n",
    "    \\overleftarrow{\\partial_x}\\left(b\\ \\overrightarrow{\\partial_x}\\ \\widetilde{\\delta u} \\right) +\n",
    "    \\overleftarrow{\\partial_y}\\left(b\\ \\overrightarrow{\\partial_y}\\ \\widetilde{\\delta u} \\right) +\n",
    "    \\overleftarrow{\\partial_z}\\left(b\\ \\overrightarrow{\\partial_z}\\ \\widetilde{\\delta u} \\right) + \n",
    "    \\widetilde{\\delta r}\n",
    "$$\n",
    "\n",
    "#### 2. Compute zero lag correlation  \n",
    "\n",
    "We compute the perturbation to the velocity model by zero lag correlation of the wavefield perturbation $\\delta u$ solved in step 1. as shown in the following expression: \n",
    "\n",
    "$$\n",
    "\\delta m(x,y,z) = \\sum_t \n",
    "    \\left\\{ \n",
    "        \\delta u(t,x,y,z)\\ \\frac{\\displaystyle 2\\ b}{\\displaystyle m_0^3} L_t\\left[u_0(t,x,y,z)\\right]\n",
    "    \\right\\}\n",
    "$$\n",
    "\n",
    "Note that this correlation can be more formally derived by examining the equations for two Green's functions, one for the background model ($m_0$) and wavefield ($u_0$), and one for for the total model $(m_0 + \\delta m)$ and wavefield $(u_0 + \\delta u)$, and subtracting to derive the equation for Born scattering.\n"
   ]
  },
  {
   "cell_type": "markdown",
   "metadata": {},
   "source": [
    "## Implementation\n",
    "\n",
    "Next we assemble the Devito objects needed to implement these linearized operators."
   ]
  },
  {
   "cell_type": "markdown",
   "metadata": {},
   "source": [
    "## Imports \n",
    "\n",
    "We have grouped all imports used in this notebook here for consistency."
   ]
  },
  {
   "cell_type": "code",
   "execution_count": 1,
   "metadata": {},
   "outputs": [],
   "source": [
    "import numpy as np\n",
    "from examples.seismic import RickerSource, Receiver, TimeAxis\n",
    "from devito import (Grid, Function, TimeFunction, SpaceDimension, Constant, \n",
    "                    Eq, Operator, solve, configuration)\n",
    "from devito.finite_differences import Derivative\n",
    "from devito.builtins import gaussian_smooth\n",
    "from examples.seismic.skew_self_adjoint import *\n",
    "import matplotlib as mpl\n",
    "import matplotlib.pyplot as plt\n",
    "from matplotlib import cm\n",
    "from timeit import default_timer as timer\n",
    "\n",
    "# These lines force images to be displayed in the notebook, and scale up fonts \n",
    "%matplotlib inline\n",
    "mpl.rc('font', size=14)\n",
    "\n",
    "# Make white background for plots, not transparent\n",
    "plt.rcParams['figure.facecolor'] = 'white'\n",
    "\n",
    "# We define 32 bit floating point as the precision type \n",
    "dtype = np.float32\n",
    "\n",
    "# Set the default language to openmp\n",
    "configuration['language'] = 'openmp'\n",
    "\n",
    "# Set logging to debug, captures statistics on the performance of operators\n",
    "configuration['log-level'] = 'DEBUG'"
   ]
  },
  {
   "cell_type": "markdown",
   "metadata": {},
   "source": [
    "<a id=\"ln_grid_and_model\"></a>\n",
    "## Instantiate the Devito grid for a two dimensional problem\n",
    "\n",
    "We define the grid the same as in the previous notebook outlining implementation for the nonlinear forward."
   ]
  },
  {
   "cell_type": "code",
   "execution_count": 2,
   "metadata": {},
   "outputs": [
    {
     "name": "stdout",
     "output_type": "stream",
     "text": [
      "shape;            (751, 751)\n",
      "origin;           (0.0, 0.0)\n",
      "spacing;          (10.0, 10.0)\n",
      "extent;           (7500.0, 7500.0)\n",
      "\n",
      "shape_pad;        [851 851]\n",
      "origin_pad;       (-500.0, -500.0)\n",
      "extent_pad;       (8500.0, 8500.0)\n",
      "\n",
      "grid.shape;       (851, 851)\n",
      "grid.extent;      (8500.0, 8500.0)\n",
      "grid.spacing_map; {h_x: 10.0, h_z: 10.0}\n"
     ]
    }
   ],
   "source": [
    "# Define dimensions for the interior of the model\n",
    "nx,nz = 751,751\n",
    "dx,dz = 10.0,10.0  # Grid spacing in m\n",
    "shape = (nx, nz)   # Number of grid points\n",
    "spacing = (dx, dz) # Domain size is now 5 km by 5 km\n",
    "origin = (0., 0.)  # Origin of coordinate system, specified in m.\n",
    "extent = tuple([s*(n-1) for s, n in zip(spacing, shape)])\n",
    "\n",
    "# Define dimensions for the model padded with absorbing boundaries\n",
    "npad = 50          # number of points in absorbing boundary region (all sides)\n",
    "nxpad,nzpad = nx+2*npad, nz+2*npad\n",
    "shape_pad   = np.array(shape) + 2 * npad\n",
    "origin_pad  = tuple([o - s*npad for o, s in zip(origin, spacing)])\n",
    "extent_pad  = tuple([s*(n-1) for s, n in zip(spacing, shape_pad)])\n",
    "\n",
    "# Define the dimensions \n",
    "# Note if you do not specify dimensions, you get in order x,y,z\n",
    "x = SpaceDimension(name='x', spacing=Constant(name='h_x', \n",
    "                   value=extent_pad[0]/(shape_pad[0]-1)))\n",
    "z = SpaceDimension(name='z', spacing=Constant(name='h_z', \n",
    "                   value=extent_pad[1]/(shape_pad[1]-1)))\n",
    "\n",
    "# Initialize the Devito grid \n",
    "grid = Grid(extent=extent_pad, shape=shape_pad, origin=origin_pad, \n",
    "            dimensions=(x, z), dtype=dtype)\n",
    "\n",
    "print(\"shape;           \", shape)\n",
    "print(\"origin;          \", origin)\n",
    "print(\"spacing;         \", spacing)\n",
    "print(\"extent;          \", extent)\n",
    "print(\"\")\n",
    "print(\"shape_pad;       \", shape_pad)\n",
    "print(\"origin_pad;      \", origin_pad)\n",
    "print(\"extent_pad;      \", extent_pad)\n",
    "\n",
    "print(\"\")\n",
    "print(\"grid.shape;      \", grid.shape)\n",
    "print(\"grid.extent;     \", grid.extent)\n",
    "print(\"grid.spacing_map;\", grid.spacing_map)"
   ]
  },
  {
   "cell_type": "markdown",
   "metadata": {},
   "source": [
    "## Define velocity, buoyancy and $\\frac{\\omega_c}{Q}$ model parameters\n",
    "\n",
    "We have the following constants and fields to define:\n",
    "\n",
    "| &nbsp; Symbol &nbsp; | Description |\n",
    "|:---:|:---|\n",
    "| $$m0(x,z)$$ | Background velocity model |\n",
    "| $$\\delta m(x,z)$$ | Perturbation to velocity model |\n",
    "| $$b(x,z)=\\frac{1}{\\rho(x,z)}$$ | Buoyancy (reciprocal density) |\n",
    "| $$\\omega_c = 2 \\pi f_c$$      | Center angular frequency |\n",
    "| $$\\frac{1}{Q(x,z)}$$ | Inverse Q model used in the modeling system |\n"
   ]
  },
  {
   "cell_type": "code",
   "execution_count": 3,
   "metadata": {},
   "outputs": [
    {
     "name": "stderr",
     "output_type": "stream",
     "text": [
      "Allocating memory for v(867, 867)\n",
      "Allocating memory for dv(867, 867)\n",
      "Allocating memory for b(867, 867)\n",
      "Operator `initialize_wOverQ` generated in 0.05 s\n",
      "  * lowering.IET: 0.03 s (63.1 %)\n",
      "     * specializing.IET: 0.02 s (42.1 %)\n",
      "        * optimize_halospots: 0.01 s (21.1 %)\n",
      "        * make_parallel: 0.01 s (21.1 %)\n",
      "        * make_simd: 0.01 s (21.1 %)\n",
      "     * lower_dims: 0.01 s (21.1 %)\n",
      "     * build: 0.01 s (21.1 %)\n",
      "  * lowering.Expressions: 0.02 s (42.1 %)\n",
      "  * lowering.Clusters: 0.01 s (21.1 %)\n",
      "     * specializing.Clusters: 0.01 s (21.1 %)\n",
      "        * cire: 0.01 s (21.1 %)\n",
      "        * blocking: 0.01 s (21.1 %)\n",
      "        * cse: 0.01 s (21.1 %)\n",
      "     * analyze: 0.01 s (21.1 %)\n",
      "     * schedule: 0.01 s (21.1 %)\n",
      "Flops reduction after symbolic optimization: [8 --> 8]\n",
      "Allocating memory for wOverQ(867, 867)\n"
     ]
    },
    {
     "name": "stdout",
     "output_type": "stream",
     "text": [
      "w,fpeak;  0.06283185307179587 0.01\n"
     ]
    },
    {
     "name": "stderr",
     "output_type": "stream",
     "text": [
      "Operator `initialize_wOverQ` jit-compiled `/tmp/devito-jitcache-uid5138/12573fb9df9d46fe32a9f3cb1d6383b494991b92.c` in 0.28 s with `CustomCompiler`\n",
      "Operator `initialize_wOverQ` run in 0.01 s\n",
      "* section0<851,851> with OI=2.00 computed in 0.01 s [1.51 GFlops/s]\n",
      "Performance[mode=advanced] arguments: {'nthreads': 16}\n"
     ]
    },
    {
     "name": "stdout",
     "output_type": "stream",
     "text": [
      "setup_wOverQ_equations ran in 0.4070 seconds -- min/max Q values; 0.1000 3162273743318697277128704.0000\n"
     ]
    }
   ],
   "source": [
    "# Create the velocity and buoyancy fields as in the nonlinear notebook \n",
    "space_order = 8\n",
    "\n",
    "# Wholespace velocity\n",
    "m0 = Function(name='v', grid=grid, space_order=space_order)\n",
    "m0.data[:] = 1.5\n",
    "\n",
    "# Perturbation to velocity: a square offset from the center of the model\n",
    "dm = Function(name='dv', grid=grid, space_order=space_order)\n",
    "dm.data[:] = 0.0\n",
    "kxpert = 1*nxpad//4\n",
    "kzpert = 1*nzpad//4\n",
    "sizepert = 10\n",
    "dm.data[kxpert-sizepert:kxpert+sizepert,kzpert-sizepert:kzpert+sizepert] = 1.0\n",
    "\n",
    "# Constant density\n",
    "b = Function(name='b', grid=grid, space_order=space_order)\n",
    "b.data[:,:] = 1.0 / 1000.0\n",
    "\n",
    "# Initialize the attenuation profile for Q=100 model\n",
    "fpeak = 0.010\n",
    "w = 2.0 * np.pi * fpeak\n",
    "print(\"w,fpeak; \", w, fpeak)\n",
    "qmin = 0.1\n",
    "qmax = 100.0\n",
    "wOverQ = Function(name='wOverQ', grid=grid, space_order=space_order)\n",
    "setup_wOverQ(wOverQ, w, qmin, 100.0, npad)"
   ]
  },
  {
   "cell_type": "markdown",
   "metadata": {},
   "source": [
    "## Define the simulation time range\n",
    "\n",
    "In this notebook we run 2 seconds of simulation using the sample rate related to the CFL condition as implemented in ```examples/seismic/skew_self_adjoint/utils.py```. \n",
    "\n",
    "**Important note** smaller Q values in highly viscous media may require smaller temporal sampling rates than a non-viscous medium to achieve dispersion free propagation. This is a cost of the visco- acoustic modification we use here.\n",
    "\n",
    "We also use the convenience ```TimeRange``` as defined in ```examples/seismic/source.py```."
   ]
  },
  {
   "cell_type": "code",
   "execution_count": 4,
   "metadata": {},
   "outputs": [
    {
     "name": "stdout",
     "output_type": "stream",
     "text": [
      "Time min, max, dt, num;   0.000000 2000.000000   2.800000 715\n",
      "time_range;  TimeAxis: start=0, stop=2002, step=2.8, num=716\n"
     ]
    }
   ],
   "source": [
    "t0 = dtype(0.)     # Simulation time start\n",
    "tn = dtype(2000.)  # Simulation time end (1 second = 1000 msec)\n",
    "dt = critical_dt(m0)\n",
    "time_range = TimeAxis(start=t0, stop=tn, step=dt)\n",
    "print(\"Time min, max, dt, num; %10.6f %10.6f %10.6f %d\" % (t0, tn, dt, int(tn//dt) + 1))\n",
    "print(\"time_range; \", time_range)"
   ]
  },
  {
   "cell_type": "markdown",
   "metadata": {},
   "source": [
    "## Define the acquisition geometry: locations of sources and receivers \n",
    "\n",
    "**source**:\n",
    "- X coordinate: center of the model: dx*(nx//2)\n",
    "- Z coordinate: center of the model: dz*(nz//2)\n",
    "- We use a 10 Hz center frequency [RickerSource](https://github.com/devitocodes/devito/blob/master/examples/seismic/source.py#L280) wavelet source as defined in ```examples/seismic/source.py```\n",
    "\n",
    "**receivers**:\n",
    "- X coordinate: center of the model: dx*(nx//2)  \n",
    "- Z coordinate: vertical line from top to bottom of model\n",
    "- We use a vertical line of [Receivers](https://github.com/devitocodes/devito/blob/master/examples/seismic/source.py#L80) as defined with a ```PointSource``` in ```examples/seismic/source.py```"
   ]
  },
  {
   "cell_type": "code",
   "execution_count": 5,
   "metadata": {},
   "outputs": [
    {
     "name": "stderr",
     "output_type": "stream",
     "text": [
      "Allocating memory for src(716, 1)\n",
      "Allocating memory for src_coords(1, 2)\n",
      "Allocating memory for rec_coords(751, 2)\n"
     ]
    },
    {
     "name": "stdout",
     "output_type": "stream",
     "text": [
      "src_coordinate  X;           +3750.0000\n",
      "src_coordinate  Z;           +3750.0000\n",
      "src_coordinates X min/max;   +3750.0000   +3750.0000\n",
      "src_coordinates Z min/max;      +0.0000   +7500.0000\n"
     ]
    }
   ],
   "source": [
    "# Source in the center of the model at 10 Hz center frequency\n",
    "src = RickerSource(name='src', grid=grid, f0=fpeak, npoint=1, time_range=time_range)\n",
    "src.coordinates.data[0,0] = dx * (nx//2)\n",
    "src.coordinates.data[0,1] = dz * (nz//2)\n",
    "\n",
    "# line of receivers along the right edge of the model\n",
    "rec = Receiver(name='rec', grid=grid, npoint=nz, time_range=time_range)\n",
    "rec.coordinates.data[:,0] = dx * (nx//2)\n",
    "rec.coordinates.data[:,1] = np.linspace(0.0, dz*(nz-1), nz)\n",
    "\n",
    "print(\"src_coordinate  X;         %+12.4f\" % (src.coordinates.data[0,0]))\n",
    "print(\"src_coordinate  Z;         %+12.4f\" % (src.coordinates.data[0,1]))\n",
    "print(\"src_coordinates X min/max; %+12.4f %+12.4f\" % \\\n",
    "      (np.min(rec.coordinates.data[:,0]), np.max(rec.coordinates.data[:,0])))\n",
    "print(\"src_coordinates Z min/max; %+12.4f %+12.4f\" % \\\n",
    "      (np.min(rec.coordinates.data[:,1]), np.max(rec.coordinates.data[:,1])))"
   ]
  },
  {
   "cell_type": "markdown",
   "metadata": {},
   "source": [
    "## Plot the velocity and perturbation "
   ]
  },
  {
   "cell_type": "code",
   "execution_count": 6,
   "metadata": {},
   "outputs": [
    {
     "data": {
      "image/png": "[encoded data removed]",
      "text/plain": [
       "<Figure size 864x576 with 4 Axes>"
      ]
     },
     "metadata": {},
     "output_type": "display_data"
    }
   ],
   "source": [
    "mmin, mmax = 1.4, 1.7\n",
    "pmin, pmax = -1.0, +1.0\n",
    "\n",
    "# note: flip sense of second dimension to make the plot positive downwards\n",
    "plt_extent = [origin_pad[0], origin_pad[0] + spacing[0]*(shape_pad[0]-1), \n",
    "              origin_pad[1] + spacing[1]*(shape_pad[1]-1), origin_pad[1]]\n",
    "\n",
    "# plt.figure(figsize=(12, 8))\n",
    "# plt.subplots_adjust(left=0.05, right=0.95, wspace=0.2)\n",
    "\n",
    "# plt.subplot(1,2,1)\n",
    "# plt.imshow(np.transpose(m0.data), cmap=cm.jet, \n",
    "#                    vmin=vmin, vmax=vmax, extent=plt_extent)\n",
    "# plt.plot([origin[0], origin[0], extent[0], extent[0], origin[0]], \n",
    "#          [origin[1], extent[1], extent[1], origin[1], origin[1]], \n",
    "#          'gray', linewidth=4, linestyle=':', label=\"Absorbing Boundary\")\n",
    "# plt.plot(src.coordinates.data[:, 0], src.coordinates.data[:, 1], \\\n",
    "#          'black', linestyle='None', marker='*', markersize=15, label=\"Source\")\n",
    "# plt.colorbar(orientation='horizontal', label=\"Velocity (m/msec)\")\n",
    "# plt.xlabel(\"X Coordinate (m)\", labelpad=15)\n",
    "# plt.ylabel(\"Z Coordinate (m)\", labelpad=15)\n",
    "# plt.title(\"Background velocity\", y=1.035)\n",
    "\n",
    "# plt.subplot(1,2,2)\n",
    "# plt.imshow(np.transpose(dm.data), cmap=\"seismic\", \n",
    "#                    vmin=pmin, vmax=pmax, extent=plt_extent)\n",
    "# plt.plot([origin[0], origin[0], extent[0], extent[0], origin[0]], \n",
    "#          [origin[1], extent[1], extent[1], origin[1], origin[1]], \n",
    "#          'gray', linewidth=4, linestyle=':', label=\"Absorbing Boundary\")\n",
    "# plt.plot(src.coordinates.data[:, 0], src.coordinates.data[:, 1], \\\n",
    "#          'black', linestyle='None', marker='*', markersize=15, label=\"Source\")\n",
    "# plt.colorbar(orientation='horizontal', label=\"Velocity perturbation (m/msec)\")\n",
    "# plt.xlabel(\"X Coordinate (m)\", labelpad=15)\n",
    "# plt.ylabel(\"Z Coordinate (m)\", labelpad=15)\n",
    "# plt.title(\"Velocity perturbation\", y=1.025)\n",
    "# None\n",
    "\n",
    "plt.figure(figsize=(12,8))\n",
    "\n",
    "plt.subplot(1, 2, 1)\n",
    "plt.imshow(np.transpose(m0.data), cmap=cm.jet, \n",
    "           vmin=mmin, vmax=mmax, extent=plt_extent)\n",
    "plt.colorbar(orientation='horizontal', label='Amplitude')\n",
    "plt.plot([origin[0], origin[0], extent[0], extent[0], origin[0]],\n",
    "         [origin[1], extent[1], extent[1], origin[1], origin[1]],\n",
    "         'black', linewidth=4, linestyle=':', label=\"Absorbing Boundary\")\n",
    "plt.plot(src.coordinates.data[:, 0], src.coordinates.data[:, 1], \\\n",
    "         'red', linestyle='None', marker='*', markersize=15, label=\"Source\")\n",
    "plt.xlabel(\"X Coordinate (m)\", labelpad=10)\n",
    "plt.ylabel(\"Z Coordinate (m)\", labelpad=10)\n",
    "plt.title(\"Background velocity\")\n",
    "\n",
    "plt.subplot(1, 2, 2)\n",
    "plt.imshow(np.transpose(dm.data), cmap=\"seismic\",\n",
    "           vmin=pmin, vmax=pmax, extent=plt_extent)\n",
    "plt.colorbar(orientation='horizontal', label='Amplitude')\n",
    "plt.plot([origin[0], origin[0], extent[0], extent[0], origin[0]],\n",
    "         [origin[1], extent[1], extent[1], origin[1], origin[1]],\n",
    "         'black', linewidth=4, linestyle=':', label=\"Absorbing Boundary\")\n",
    "plt.plot(src.coordinates.data[:, 0], src.coordinates.data[:, 1], \\\n",
    "         'red', linestyle='None', marker='*', markersize=15, label=\"Source\")\n",
    "plt.xlabel(\"X Coordinate (m)\", labelpad=10)\n",
    "plt.ylabel(\"Z Coordinate (m)\", labelpad=10)\n",
    "plt.title(\"Velocity perturbation\")\n",
    "\n",
    "plt.tight_layout()\n",
    "None"
   ]
  },
  {
   "cell_type": "markdown",
   "metadata": {},
   "source": [
    "## Define pressure wavefields\n",
    "\n",
    "We need two wavefields for Jacobian operations, one computed during the finite difference evolution of the nonlinear forward operator, and one computed during the finite difference evolution of the Jacobian operator. \n",
    "\n",
    "For this example workflow we will require saving all time steps from the nonlinear forward operator for use in the Jacobian operators. There are other ways to implement this requirement, including checkpointing, but that is beyond the scope of this illustrative workflow.  "
   ]
  },
  {
   "cell_type": "code",
   "execution_count": 7,
   "metadata": {},
   "outputs": [],
   "source": [
    "# Define the TimeFunctions for nonlinear and Jacobian operations\n",
    "u0 = TimeFunction(name=\"u0\", grid=grid, time_order=2, space_order=space_order, save=True)\n",
    "du = TimeFunction(name=\"du\", grid=grid, time_order=2, space_order=space_order)\n",
    "\n",
    "# Get the dimensions and spacing for t, x, z \n",
    "t,x,z = u0.dimensions\n",
    "h_t = t.spacing\n",
    "h_x = x.spacing\n",
    "h_z = z.spacing"
   ]
  },
  {
   "cell_type": "markdown",
   "metadata": {},
   "source": [
    "## Define the source injection and receiver extraction for the nonlinear operator"
   ]
  },
  {
   "cell_type": "code",
   "execution_count": 8,
   "metadata": {},
   "outputs": [],
   "source": [
    "# Finally we define the source injection and receiver extraction functions \n",
    "src_term_nl = src.inject(field=u0.forward, expr=src * h_t**2 * m0**2 / b)\n",
    "\n",
    "# Create interpolation expression for receivers\n",
    "rec_term_no = rec.interpolate(expr=u0.forward)"
   ]
  },
  {
   "cell_type": "markdown",
   "metadata": {},
   "source": [
    "## Finally, the Devito operator\n",
    "\n",
    "We next transcribe the time update expression above into a Devito ```Eq```. Then we add the source injection and receiver extraction and build an ```Operator``` that will generate the c++ code for performing the model.\n",
    "\n",
    "We copy the time update expression from above for clarity. Note we omit $s$ from the ```Eq``` below because we will be explicitly injecting the source using ```src_term```.\n",
    "\n",
    "$$\n",
    "\\begin{aligned}\n",
    "    u(t+\\delta t) &=\n",
    "        \\frac{\\delta t^2 v^2}{b} \\left[ \n",
    "            \\overleftarrow{\\partial_x}\\left(b\\ \\overrightarrow{\\partial_x}\\ u \\right) +\n",
    "            \\overleftarrow{\\partial_y}\\left(b\\ \\overrightarrow{\\partial_y}\\ u \\right) +\n",
    "            \\overleftarrow{\\partial_z}\\left(b\\ \\overrightarrow{\\partial_z}\\ u \\right) + s\n",
    "        \\right] \\\\[5pt]\n",
    "        &\\quad +\\ u(t) \\left(2 - \\frac{\\delta t^2 \\omega_c}{Q} \\right)\n",
    "        - u(t-\\delta t) \\left(1 - \\frac{\\delta t\\ \\omega_c}{Q} \\right)\n",
    "\\end{aligned}\n",
    "$$"
   ]
  },
  {
   "cell_type": "code",
   "execution_count": 9,
   "metadata": {},
   "outputs": [],
   "source": [
    "# #NBVAL_IGNORE_OUTPUT\n",
    "# eq_time_update = (h_t**2 * v**2 / b) * \\\n",
    "#     ((b * p.dx(x0=x+h_x/2)).dx(x0=x-h_x/2) + \\\n",
    "#      (b * p.dz(x0=z+h_z/2)).dz(x0=z-h_z/2)) + \\\n",
    "#     p * (2 - h_t**2 * wOverQ) - p.backward * (1 - h_t * wOverQ)\n",
    "\n",
    "# stencil = Eq(p.forward, eq_time_update)\n",
    "\n",
    "# op = Operator([stencil] + src_term + rec_term, subs=p.grid.spacing_map)"
   ]
  },
  {
   "cell_type": "code",
   "execution_count": 10,
   "metadata": {},
   "outputs": [],
   "source": [
    "# # run the operator\n",
    "# print(\"v        min/max; %+12.6e %+12.6e\" % (np.min(v.data), np.max(v.data)))\n",
    "# print(\"b        min/max; %+12.6e %+12.6e\" % (np.min(b.data), np.max(b.data)))\n",
    "# print(\"wOverQ   min/max; %+12.6e %+12.6e\" % (np.min(wOverQ.data), np.max(wOverQ.data)))\n",
    "# print(time_range)\n",
    "# # summary = ou(time=time_range.num-1, h_x=dx, h_z=dz, dt=dt)\n",
    "# # print(\"data min/max; %+12.6e %+12.6e\" % (np.min(p.data[1,:,:]), np.max(p.data[1,:,:])))"
   ]
  },
  {
   "cell_type": "markdown",
   "metadata": {},
   "source": [
    "## Plot the computed wavefield"
   ]
  },
  {
   "cell_type": "markdown",
   "metadata": {},
   "source": []
  },
  {
   "cell_type": "markdown",
   "metadata": {},
   "source": [
    "<a id=\"nl_refs\"></a>\n",
    "## References\n",
    "<br>\n",
    "\n",
    "- **A nonreflecting boundary condition for discrete acoustic and elastic wave equations** (1985)\n",
    "<br>Charles Cerjan, Dan Kosloff, Ronnie Kosloff, and Moshe Resheq\n",
    "<br> Geophysics, Vol. 50, No. 4\n",
    "<br>https://library.seg.org/doi/pdfplus/10.1190/segam2016-13878451.1\n",
    "<br>\n",
    "\n",
    "- **Generation of Finite Difference Formulas on Arbitrarily Spaced Grids** (1988)\n",
    "<br>Bengt Fornberg\n",
    "<br>Mathematics of Computation, Vol. 51, No. 184\n",
    "<br>http://dx.doi.org/10.1090/S0025-5718-1988-0935077-0\n",
    "<br>https://web.njit.edu/~jiang/math712/fornberg.pdf\n",
    "<br>\n",
    "\n",
    "- **Self-adjoint, energy-conserving second-order pseudoacoustic systems for VTI and TTI media for reverse time migration and full-waveform inversion** (2016)\n",
    "<br>Kenneth Bube, John Washbourne, Raymond Ergas, and Tamas Nemeth\n",
    "<br>SEG Technical Program Expanded Abstracts\n",
    "<br>https://library.seg.org/doi/10.1190/segam2016-13878451.1\n"
   ]
  },
  {
   "cell_type": "code",
   "execution_count": null,
   "metadata": {},
   "outputs": [],
   "source": []
  }
 ],
 "metadata": {
  "anaconda-cloud": {},
  "kernelspec": {
   "display_name": "Python 3",
   "language": "python",
   "name": "python3"
  },
  "language_info": {
   "codemirror_mode": {
    "name": "ipython",
    "version": 3
   },
   "file_extension": ".py",
   "mimetype": "text/x-python",
   "name": "python",
   "nbconvert_exporter": "python",
   "pygments_lexer": "ipython3",
   "version": "3.8.2"
  }
 },
 "nbformat": 4,
 "nbformat_minor": 4
}
