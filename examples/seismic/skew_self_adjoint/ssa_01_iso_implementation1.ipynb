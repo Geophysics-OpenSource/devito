{
 "cells": [
  {
   "cell_type": "markdown",
   "metadata": {},
   "source": [
    "# Implementation of a Devito skew self adjoint variable density visco- acoustic isotropic modeling operator <br>-- Nonlinear Ops --\n",
    "\n",
    "## This operator is contributed by Chevron Energy Technology Company (2020)\n",
    "\n",
    "This operator is based on simplfications of the systems presented in:\n",
    "<br>**Self-adjoint, energy-conserving second-order pseudoacoustic systems for VTI and TTI media for reverse time migration and full-waveform inversion** (2016)\n",
    "<br>Kenneth Bube, John Washbourne, Raymond Ergas, and Tamas Nemeth\n",
    "<br>SEG Technical Program Expanded Abstracts\n",
    "<br>https://library.seg.org/doi/10.1190/segam2016-13878451.1"
   ]
  },
  {
   "cell_type": "markdown",
   "metadata": {},
   "source": [
    "## Introduction \n",
    "\n",
    "The goal of this tutorial set is to generate and prove correctness of modeling and inversion capability in Devito for variable density visco- acoustics using an energy conserving form of the wave equation. We describe how the linearization of the energy conserving *skew self adjoint* system with respect to modeling parameters allows using the same modeling system for all nonlinear and linearized forward and adjoint finite difference evolutions. \n",
    "\n",
    "There are three notebooks in this series:\n",
    "\n",
    "1. *Implementation of a Devito skew self adjoint variable density visco- acoustic isotropic modeling operator -- Nonlinear Ops*\n",
    "[ssa_01_iso_implementation1.ipynb](ssa_01_iso_implementation1.ipynb)\n",
    "<br>Implement the nonlinear modeling operations. \n",
    "\n",
    "2. *Implementation of a Devito skew self adjoint variable density visco- acoustic isotropic modeling operator -- Linearized Ops*\n",
    "[ssa_02_iso_implementation2.ipynb](ssa_02_iso_implementation2.ipynb)\n",
    "<br>Implement the linearized (Jacobian) ```forward``` and ```adjoint``` modeling operations.\n",
    "\n",
    "3. *Implementation of a Devito skew self adjoint variable density visco- acoustic isotropic modeling operator -- Correctness Testing*\n",
    "[ssa_03_iso_correctness.ipynb](ssa_03_iso_correctness.ipynb)\n",
    "<br>Tests the correctness of the implemented operators.\n",
    "\n",
    "There are similar series of notebooks implementing and testing operators for VTI and TTI anisotropy ([README.md](README.md)).\n",
    "\n",
    "Below we introduce the *skew self adjoint* form of the scalar isotropic variable density visco- acoustic wave equation with a simple form of dissipation only Q attenuation. This dissipation only (no dispersion) attenuation term $\\left (\\frac{\\displaystyle \\omega}{Q} \\partial_t u \\right)$ is an approximation of a [Maxwell Body](https://en.wikipedia.org/wiki/Maxwell_material) -- that is to say viscoelasticity approximated with a spring and dashpot in series. In practice this approach for attentuating outgoing waves is very similar to the Cerjan style damping in absorbing boundaries used elsewhere in Devito ([References](#nl_refs)). \n",
    "\n",
    "The derivation of the attenuation model is not in scope for this tutorial, but one important point is that the physics in the absorbing boundary region and the interior of the model are *unified*, allowing the same modeling equations to be used everwhere, with physical Q values in the interior tapering to small Q at the boundaries to attentuate outgoing waves. \n",
    "\n",
    "## Outline \n",
    "1. Define symbols [[link]](#nl_symbols) \n",
    "2. Introduce the SSA wave equation [[link]](#nl_we) \n",
    "3. Show generation of skew symmetric derivatives and prove correctness with unit test [[link]](#nl_ssa_derivs) \n",
    "4. Derive the time update equation used to implement the nonlinear forward modeling operator [[link]](#nl_time_update) \n",
    "5. Create the Devito grid and model fields [[link]](#nl_grid_and_model) \n",
    "6. Define a function to implement the attenuation profile ($\\omega\\ /\\ Q$) [[link]](#nl_attenuation) \n",
    "7. Create the Devito operator [[link]](#nl_build_operator) \n",
    "8. Run the Devito operator [[link]](#nl_run_operator) \n",
    "9. Plot the resulting wavefields [[link]](#nl_plot_wavefield) \n",
    "10. References [[link]](#nl_refs) "
   ]
  },
  {
   "cell_type": "markdown",
   "metadata": {},
   "source": [
    "<a id=\"nl_symbols\"></a>\n",
    "## Table of symbols\n",
    "\n",
    "| Symbol &nbsp; &nbsp; &nbsp; &nbsp; | Description  | Dimensionality | \n",
    "| :---         | :---              | :--- |\n",
    "| $\\omega_c = 2 \\pi f_c$ | center angular frequency | constant |\n",
    "| $v(x,y,z)$   | P wave velocity    | function of space |\n",
    "| $b(x,y,z)$   | buoyancy $(1 / \\rho)$ | function of space |\n",
    "| $Q(x,y,z)$   | Attenuation at frequency $\\omega_c$ | function of space |\n",
    "| $u(t,x,y,z)$ | Pressure wavefield | function of time and space |\n",
    "| $s(t,x,y,z)$ | Source term        | function of time, localized in space |\n",
    "| $\\overleftarrow{\\partial_t}$ | shifted first derivative wrt $t$ | shifted 1/2 sample backward in time |\n",
    "| $\\partial_{tt}$ | centered second derivative wrt $t$ | time |\n",
    "| $\\overrightarrow{\\partial_x},\\ \\overrightarrow{\\partial_y},\\ \\overrightarrow{\\partial_z}$ | + shifted first derivative wrt $x,y,z$ | shifted 1/2 sample forward in space |\n",
    "| $\\overleftarrow{\\partial_x},\\ \\overleftarrow{\\partial_y},\\ \\overleftarrow{\\partial_z}$ | - shifted first derivative wrt $x,y,z$ | shifted 1/2 sample backward in space |"
   ]
  },
  {
   "cell_type": "markdown",
   "metadata": {},
   "source": [
    "## A word about notation \n",
    "\n",
    "We use the arrow symbols over derivatives $\\overrightarrow{\\partial_x}$ as a shorthand notation to indicate that the derivative is taken at a shifted location. For example:\n",
    "\n",
    "- $\\overrightarrow{\\partial_x} u(t,x,y,z)$ indicates that the $x$ derivative of $u(t,x,y,z)$ is taken at $u(t,x+\\frac{\\Delta x}{2},y,z)$.\n",
    "\n",
    "- $\\overleftarrow{\\partial_z} u(t,x,y,z)$ indicates that the $z$ derivative of $u(t,x,y,z)$ is taken at $u(t,x,y,z-\\frac{\\Delta z}{2})$.\n",
    "\n",
    "- $\\overleftarrow{\\partial_t} u(t,x,y,z)$ indicates that the $t$ derivative of $u(t,x,y,z)$ is taken at $u(t-\\frac{\\Delta t}{2},x,y,z)$.\n",
    "\n",
    "We usually drop the $(t,x,y,z)$ notation from wavefield variables unless required for clarity of exposition, so that $u(t,x,y,z)$ becomes $u$."
   ]
  },
  {
   "cell_type": "markdown",
   "metadata": {},
   "source": [
    "<a id=\"nl_we\"></a>\n",
    "## SSA variable density visco- acoustic wave equation\n",
    "\n",
    "Our skew self adjoint wave equation is written:\n",
    "\n",
    "$$\n",
    "\\frac{b}{v^2} \\left( \\frac{\\omega_c}{Q} \\overleftarrow{\\partial_t} u + \\partial_{tt} u \\right) =\n",
    "    \\overleftarrow{\\partial_x}\\left(b\\ \\overrightarrow{\\partial_x} u \\right) +\n",
    "    \\overleftarrow{\\partial_y}\\left(b\\ \\overrightarrow{\\partial_y} u \\right) +\n",
    "    \\overleftarrow{\\partial_z}\\left(b\\ \\overrightarrow{\\partial_z} u \\right) + s \n",
    "$$\n",
    "\n",
    "An advantage of this form is that the same system can be used to provide *unconditionally stable* modes of propagation for all operations needed in quasi- Newton optimization: \n",
    "\n",
    "- the nonlinear forward \n",
    "- the linearized forward (Jacobian forward)\n",
    "- the linearized adjoint (Jacobian adjoint)\n",
    "\n",
    "This advantage is more important for anisotropic operators, where widely utilized non energy conserving formulations can provide unstable adjoints and thus unstable gradients for anisotropy parameters.  \n",
    "\n",
    "The *skew self adjoint* formulation is evident in the shifted spatial derivatves, with the derivative on the right side $\\overrightarrow{\\partial}$ shifting forward in space one-half cell, and the derivative on the left side $\\overleftarrow{\\partial}$ shifting backward in space one-half cell. \n",
    "\n",
    "$\\overrightarrow{\\partial}$ and $\\overleftarrow{\\partial}$ are anti-symmetric (also known as skew symmetric), meaning that for two random vectors $x_1$ and $x_2$, correctly implementated numerical derivatives will have the following property:\n",
    "\n",
    "$$\n",
    "x_2 \\cdot \\left( \\overrightarrow{\\partial_x}\\ x_1 \\right) \\approx -\\ \n",
    "x_1 \\cdot \\left( \\overleftarrow{\\partial_x}\\ x_2 \\right) \n",
    "$$\n",
    "\n",
    "Below we will demonstrate this skew symmetry with a simple unit test on Devito generated derivatives. \n",
    "\n",
    "In the following notebooks in this series, material parameters *sandwiched* between the derivatives -- including anisotropy parameters -- become much more interesting, but here buoyancy $b$ is the only material parameter in the right hand side of our skew self adjoint (SSA) wave equation. "
   ]
  },
  {
   "cell_type": "markdown",
   "metadata": {},
   "source": [
    "## Imports \n",
    "\n",
    "We have grouped all imports used in this notebook here for consistency."
   ]
  },
  {
   "cell_type": "code",
   "execution_count": 1,
   "metadata": {},
   "outputs": [],
   "source": [
    "import numpy as np\n",
    "from examples.seismic import RickerSource, Receiver, TimeAxis\n",
    "from devito import (Grid, Function, TimeFunction, SpaceDimension, Constant, \n",
    "                    Eq, Operator, solve, configuration)\n",
    "from devito.finite_differences import Derivative\n",
    "from devito.builtins import gaussian_smooth\n",
    "from examples.seismic.skew_self_adjoint import *\n",
    "import matplotlib as mpl\n",
    "import matplotlib.pyplot as plt\n",
    "from matplotlib import cm\n",
    "from timeit import default_timer as timer\n",
    "\n",
    "# These lines force images to be displayed in the notebook, and scale up fonts \n",
    "%matplotlib inline\n",
    "mpl.rc('font', size=14)\n",
    "\n",
    "# Set the default language to openmp\n",
    "configuration['language'] = 'openmp'\n",
    "\n",
    "# Set logging to debug, captures statistics on the performance of operators\n",
    "configuration['log-level'] = 'DEBUG'"
   ]
  },
  {
   "cell_type": "markdown",
   "metadata": {},
   "source": [
    "<a id=\"nl_ssa_derivs\"></a>\n",
    "## Unit test demonstrating skew symmetry for shifted derivatives\n",
    "\n",
    "As noted above, we prove with a small 1D unit test and 8th order spatial operator that the Devito shifted first derivatives are skew symmetric. This anti-symmetry can demonstrated for the forward and backward half cell shift first derivative operators $\\overrightarrow{\\partial}$ and $\\overleftarrow{\\partial}$ with two random vectors $x_1$ and $x_2$ by verifying the *dot product test* as written above.\n",
    "\n",
    "We will use Devito to implement the following two equations with an ```Operator```:\n",
    "\n",
    "$$\n",
    "\\begin{aligned}\n",
    "f_2 = \\overrightarrow{\\partial_x}\\ f_1 \\\\[5pt]\n",
    "g_2 = \\overleftarrow{\\partial_x}\\ g_1\n",
    "\\end{aligned}\n",
    "$$\n",
    "\n",
    "And then verify the dot products are equivalent:  \n",
    "\n",
    "$$\n",
    "f_1 \\cdot g_2 \\approx g_1 \\cdot f_2\n",
    "$$\n",
    "\n",
    "We use the following test for relative error (note the flipped signs in numerator and denominator due to anti- symmetry):\n",
    "\n",
    "$$\n",
    "\\frac{\\displaystyle f_1 \\cdot g_2 + g_1 \\cdot f_2}\n",
    "     {\\displaystyle f_1 \\cdot g_2 - g_1 \\cdot f_2}\\ <\\ \\epsilon\n",
    "$$\n"
   ]
  },
  {
   "cell_type": "code",
   "execution_count": 2,
   "metadata": {},
   "outputs": [
    {
     "name": "stderr",
     "output_type": "stream",
     "text": [
      "Allocating memory for f(117,)\n",
      "Operator `Kernel` generated in 0.12 s\n",
      "  * lowering.Expressions: 0.08 s (70.3 %)\n",
      "  * lowering.IET: 0.03 s (26.4 %)\n",
      "Flops reduction after symbolic optimization: [31 --> 13]\n"
     ]
    }
   ],
   "source": [
    "n = 101\n",
    "d = 1.0\n",
    "shape = (n, )\n",
    "spacing = (1 / (n-1), )   \n",
    "origin = (0., )\n",
    "extent = (d * (n-1), )\n",
    "grid1d = Grid(shape=shape, extent=extent, origin=origin, dtype=np.float32)\n",
    "x = grid1d.dimensions[0]\n",
    "f = Function(name='f', grid=grid1d, space_order=8)\n",
    "f.data[:] = -1 + 2 * np.random.rand(n,)\n",
    "eqn = Eq(f, f.dx)\n",
    "op = Operator([eqn])\n",
    "# op()\n",
    "\n",
    "# # Compute the dot products and the relative error\n",
    "# f1g2 = np.dot(f1.data, g2.data)\n",
    "# g1f2 = np.dot(g1.data, f2.data)\n",
    "# diff = (f1g2+g1f2)/(f1g2-g1f2)\n",
    "\n",
    "# tol = 100 * np.finfo(np.float32).eps\n",
    "# print(\"f1g2, g1f2, diff, tol; %+.6e %+.6e %+.6e %+.6e\" % (f1g2, g1f2, diff, tol))\n",
    "\n",
    "# # At last the unit test\n",
    "# # Assert these dot products are float epsilon close in relative error\n",
    "# assert diff < 100 * np.finfo(np.float32).eps"
   ]
  },
  {
   "cell_type": "code",
   "execution_count": 3,
   "metadata": {},
   "outputs": [
    {
     "name": "stderr",
     "output_type": "stream",
     "text": [
      "Allocating memory for f1(117,)\n",
      "Allocating memory for g1(117,)\n",
      "Operator `Kernel` generated in 0.15 s\n",
      "  * lowering.Expressions: 0.09 s (62.8 %)\n",
      "  * lowering.IET: 0.03 s (21.0 %)\n",
      "     * specializing.IET: 0.03 s (21.0 %)\n",
      "  * lowering.Clusters: 0.03 s (21.0 %)\n",
      "     * specializing.Clusters: 0.03 s (21.0 %)\n",
      "Flops reduction after symbolic optimization: [62 --> 25]\n"
     ]
    }
   ],
   "source": [
    "#NBVAL_INGNORE_OUTPUT\n",
    "# Make 1D grid to test derivatives \n",
    "dtype = np.float32\n",
    "n = 101\n",
    "d = 1.0\n",
    "shape = (n, )\n",
    "spacing = (1 / (n-1), )   \n",
    "origin = (0., )\n",
    "extent = (d * (n-1), )\n",
    "\n",
    "# Initialize Devito grid and Functions for input(f1,g1) and output(f2,g2)\n",
    "grid1d = Grid(shape=shape, extent=extent, origin=origin, dtype=dtype)\n",
    "x = grid1d.dimensions[0]\n",
    "f1 = Function(name='f1', grid=grid1d, space_order=8)\n",
    "f2 = Function(name='f2', grid=grid1d, space_order=8)\n",
    "g1 = Function(name='g1', grid=grid1d, space_order=8)\n",
    "g2 = Function(name='g2', grid=grid1d, space_order=8)\n",
    "\n",
    "# Fill f1 and g1 with random values in [-1,+1]\n",
    "f1.data[:] = -1 + 2 * np.random.rand(n,)\n",
    "g1.data[:] = -1 + 2 * np.random.rand(n,)\n",
    "\n",
    "# Equation defining: [f2 = forward 1/2 cell shift derivative applied to f1]\n",
    "equation_f2 = Eq(f2, f1.dx(x0=x+0.5*x.spacing))\n",
    "\n",
    "# Equation defining: [g2 = backward 1/2 cell shift derivative applied to g1]\n",
    "equation_g2 = Eq(g2, g1.dx(x0=x-0.5*x.spacing))\n",
    "\n",
    "# Define an Operator to implement these equations and execute\n",
    "op = Operator([equation_f2, equation_g2])\n",
    "op()\n",
    "\n",
    "# Compute the dot products and the relative error\n",
    "f1g2 = np.dot(f1.data, g2.data)\n",
    "g1f2 = np.dot(g1.data, f2.data)\n",
    "diff = (f1g2+g1f2)/(f1g2-g1f2)\n",
    "\n",
    "tol = 100 * np.finfo(np.float32).eps\n",
    "print(\"f1g2, g1f2, diff, tol; %+.6e %+.6e %+.6e %+.6e\" % (f1g2, g1f2, diff, tol))\n",
    "\n",
    "# At last the unit test\n",
    "# Assert these dot products are float epsilon close in relative error\n",
    "assert diff < 100 * np.finfo(np.float32).eps"
   ]
  },
  {
   "cell_type": "markdown",
   "metadata": {},
   "source": [
    "## Show the finite difference operators and generated code\n",
    "\n",
    "You can inspect the finite difference coefficients and locations for evaluation with the code shown below. \n",
    "\n",
    "For your reference, the finite difference coefficients seen in the first two stanzas below are exactly the coefficients generated in Table 2 of Fornberg's paper **Generation of Finite Difference Formulas on Arbitrarily Spaced Grids** linked below ([References](#nl_refs)).\n",
    "\n",
    "Note that you don't need to inspect the generated code, but this does provide the option to use this highly optimized code in applications that do not need or require python."
   ]
  },
  {
   "cell_type": "code",
   "execution_count": 4,
   "metadata": {},
   "outputs": [
    {
     "name": "stdout",
     "output_type": "stream",
     "text": [
      "\n",
      "\n",
      "Forward +1/2 cell shift;\n",
      "..................................\n",
      "-1.19628906*f1(x)/h_x + 0.000697544643*f1(x - 3.0*h_x)/h_x - 0.0095703125*f1(x - 2.0*h_x)/h_x + 0.0797526042*f1(x - 1.0*h_x)/h_x + 1.19628906*f1(x + 1.0*h_x)/h_x - 0.0797526042*f1(x + 2.0*h_x)/h_x + 0.0095703125*f1(x + 3.0*h_x)/h_x - 0.000697544643*f1(x + 4.0*h_x)/h_x\n",
      "\n",
      "\n",
      "Backward -1/2 cell shift;\n",
      "..................................\n",
      "1.19628906*f1(x)/h_x + 0.000697544643*f1(x - 4.0*h_x)/h_x - 0.0095703125*f1(x - 3.0*h_x)/h_x + 0.0797526042*f1(x - 2.0*h_x)/h_x - 1.19628906*f1(x - 1.0*h_x)/h_x - 0.0797526042*f1(x + 1.0*h_x)/h_x + 0.0095703125*f1(x + 2.0*h_x)/h_x - 0.000697544643*f1(x + 3.0*h_x)/h_x\n",
      "\n",
      "\n",
      "Generated c++ code;\n",
      "..................................\n",
      "#define _POSIX_C_SOURCE 200809L\n",
      "#include \"stdlib.h\"\n",
      "#include \"math.h\"\n",
      "#include \"sys/time.h\"\n",
      "#include \"xmmintrin.h\"\n",
      "#include \"pmmintrin.h\"\n",
      "#include \"omp.h\"\n",
      "\n",
      "struct dataobj\n",
      "{\n",
      "  void *restrict data;\n",
      "  int * size;\n",
      "  int * npsize;\n",
      "  int * dsize;\n",
      "  int * hsize;\n",
      "  int * hofs;\n",
      "  int * oofs;\n",
      "} ;\n",
      "\n",
      "struct profiler\n",
      "{\n",
      "  double section0;\n",
      "} ;\n",
      "\n",
      "\n",
      "int Kernel(struct dataobj *restrict f1_vec, struct dataobj *restrict f2_vec, struct dataobj *restrict g1_vec, struct dataobj *restrict g2_vec, const float h_x, struct profiler * timers, const int x_M, const int x_m, const int nthreads)\n",
      "{\n",
      "  float (*restrict f1) __attribute__ ((aligned (64))) = (float (*)) f1_vec->data;\n",
      "  float (*restrict f2) __attribute__ ((aligned (64))) = (float (*)) f2_vec->data;\n",
      "  float (*restrict g1) __attribute__ ((aligned (64))) = (float (*)) g1_vec->data;\n",
      "  float (*restrict g2) __attribute__ ((aligned (64))) = (float (*)) g2_vec->data;\n",
      "  /* Flush denormal numbers to zero in hardware */\n",
      "  _MM_SET_DENORMALS_ZERO_MODE(_MM_DENORMALS_ZERO_ON);\n",
      "  _MM_SET_FLUSH_ZERO_MODE(_MM_FLUSH_ZERO_ON);\n",
      "  struct timeval start_section0, end_section0;\n",
      "  gettimeofday(&start_section0, NULL);\n",
      "  /* Begin section0 */\n",
      "  #pragma omp parallel num_threads(nthreads)\n",
      "  {\n",
      "    #pragma omp for collapse(1) schedule(dynamic,1)\n",
      "    for (int x = x_m; x <= x_M; x += 1)\n",
      "    {\n",
      "      float r2 = 1.0/h_x;\n",
      "      f2[x + 8] = r2*(3.57142857e-3F*(f1[x + 4] - f1[x + 12]) + 3.80952381e-2F*(-f1[x + 5] + f1[x + 11]) + 2.0e-1F*(f1[x + 6] - f1[x + 10]) + 8.0e-1F*(-f1[x + 7] + f1[x + 9]));\n",
      "      g2[x + 8] = r2*(3.57142857e-3F*(g1[x + 4] - g1[x + 12]) + 3.80952381e-2F*(-g1[x + 5] + g1[x + 11]) + 2.0e-1F*(g1[x + 6] - g1[x + 10]) + 8.0e-1F*(-g1[x + 7] + g1[x + 9]));\n",
      "    }\n",
      "  }\n",
      "  /* End section0 */\n",
      "  gettimeofday(&end_section0, NULL);\n",
      "  timers->section0 += (double)(end_section0.tv_sec-start_section0.tv_sec)+(double)(end_section0.tv_usec-start_section0.tv_usec)/1000000;\n",
      "  return 0;\n",
      "}\n",
      "\n"
     ]
    }
   ],
   "source": [
    "#NBVAL_INGNORE_OUTPUT\n",
    "\n",
    "# Show the FD coefficients generated by Devito \n",
    "# for the forward 1/2 cell shifted first derivative operator\n",
    "print(\"\\n\\nForward +1/2 cell shift;\")\n",
    "print(\"..................................\")\n",
    "print(f1.dx(x0=x+0.5*x.spacing).evaluate)\n",
    "\n",
    "# Show the FD coefficients generated by Devito \n",
    "# for the backward 1/2 cell shifted first derivative operator\n",
    "print(\"\\n\\nBackward -1/2 cell shift;\")\n",
    "print(\"..................................\")\n",
    "print(f1.dx(x0=x-0.5*x.spacing).evaluate)\n",
    "\n",
    "# Show code generated by Devito for applying the derivatives\n",
    "print(\"\\n\\nGenerated c++ code;\")\n",
    "print(\"..................................\")\n",
    "print(op.ccode)"
   ]
  },
  {
   "cell_type": "markdown",
   "metadata": {},
   "source": [
    "<a id=\"nl_time_update\"></a>\n",
    "## Doing some algebra to solve for the time update\n",
    "\n",
    "The next step in implementing our Devito modeling operator is to define the equation used to update the pressure wavefield as a function of time. What follows is a bit of algebra using the wave equation and finite difference approximations to time derivatives to express the pressure wavefield forward in time $u(t+\\delta t)$ as a function of the current $u(t)$ and previous $u(t-\\delta t)$ pressure wavefields.\n",
    "\n",
    "#### 1. Numerical approximation for $\\partial_{tt}\ u$\n",
    "The second order accurate centered approximation to the second time derivative involves three wavefields: $u(t-\\delta t)$, $u(t)$, and $u(t+\\delta t)$. \n",
    "\n",
    "$$\n",
    "\\partial_{tt} u = \\frac{\\displaystyle u(t+\\delta t) - 2\\ u(t) + u(t-\\delta t)}{\\displaystyle \\delta t^2} \n",
    "$$\n",
    "\n",
    "#### 2. Solve equation for $u(t+\\delta t)$\n",
    "In order to advance our finite difference solution in time, we solve for $u(t+\\delta t)$.\n",
    "\n",
    "$$\n",
    "u(t+\\delta t) = \\delta t^2 \\partial_{tt} u \n",
    "    + 2\\ u(t) - u(t-\\delta t)\n",
    "$$\n",
    "\n",
    "#### 3. Numerical approximation for $\\overleftarrow{\\partial_{t}}u$\n",
    "The argument for using a backward approximation is a bit hand wavy, but goes like this: a centered or forward approximation for $\\partial_{t}u$ would involve the term $u(t+\\delta t)$, and hence $u(t+\\delta t)$ would appear at two places in our time update equation below, essentially making the form implicit (although it would be easy to solve for $u(t+\\delta t)$). \n",
    "\n",
    "We are interested in explicit time stepping and the correct behavior of the attenuation term, and so prefer the backward approximation for $\\overleftarrow{\\partial_{t}}u$. Our experience is that the use of the backward difference is more stable than forward or centered.\n",
    "\n",
    "The first order accurate backward approximation to the first time derivative involves two wavefields: $u(t-\\delta t)$, and $u(t)$. We can use this expression as is. \n",
    "\n",
    "$$\n",
    "\\overleftarrow{\\partial_{t}}u = \\frac{\\displaystyle u(t) - u(t-\\delta t)}{\\displaystyle \\delta t}\n",
    "$$\n",
    "\n",
    "#### 4. Solve the wave equation for $\\partial_{tt}\ u$\n",
    "\n",
    "$$\n",
    "\\begin{aligned}\n",
    "\\frac{b}{v^2} \\left( \\frac{\\omega_c}{Q} \\overleftarrow{\\partial_{t}}u +\n",
    "    \\partial_{tt}\ u \\right) &=\n",
    "    \\overleftarrow{\\partial_x}\\left(b\\ \\overrightarrow{\\partial_x} u \\right) +\n",
    "    \\overleftarrow{\\partial_y}\\left(b\\ \\overrightarrow{\\partial_y} u \\right) +\n",
    "    \\overleftarrow{\\partial_z}\\left(b\\ \\overrightarrow{\\partial_z} u \\right) + s\\\\[10pt]\n",
    "    \\partial_{tt}\ u &=\n",
    "    \\frac{v^2}{b} \\left[ \n",
    "        \\overleftarrow{\\partial_x}\\left(b\\ \\overrightarrow{\\partial_x} u \\right) +\n",
    "        \\overleftarrow{\\partial_y}\\left(b\\ \\overrightarrow{\\partial_y} u \\right) +\n",
    "        \\overleftarrow{\\partial_z}\\left(b\\ \\overrightarrow{\\partial_z} u \\right) + s\n",
    "    \\right] \n",
    "    - \\frac{\\omega_c}{Q} \\overleftarrow{\\partial_{t}}u\n",
    "\\end{aligned}\n",
    "$$\n",
    "\n",
    "#### 5. Plug in the RHS from steps (3) and (4) into the time update equation\n",
    "Next we plug in the right hand sides for $\\partial_{tt}\ u$ and $\\partial_{t}u$ into the the time update expression for $u(t+\\delta t)$ from step 2.\n",
    "\n",
    "$$\n",
    "\\begin{aligned}\n",
    "    u(t+\\delta t) &= \\delta t^2 \n",
    "        \\frac{v^2}{b} \\left[ \n",
    "            \\overleftarrow{\\partial_x}\\left(b\\ \\overrightarrow{\\partial_x} u \\right) +\n",
    "            \\overleftarrow{\\partial_y}\\left(b\\ \\overrightarrow{\\partial_y} u \\right) +\n",
    "            \\overleftarrow{\\partial_z}\\left(b\\ \\overrightarrow{\\partial_z} u \\right) + s\n",
    "        \\right] \\\\[10pt]\n",
    "        & \\quad -\\ \\delta t^2 \\frac{\\omega_c}{Q}\n",
    "            \\left( \\frac{\\displaystyle u(t) - u(t-\\delta t)}{\\displaystyle \\delta t} \\right) \n",
    "            + 2\\ u(t) - u(t-\\delta t)\n",
    "\\end{aligned}\n",
    "$$\n",
    "\n",
    "#### 6. Simplify ...\n",
    "\n",
    "$$\n",
    "\\begin{aligned}\n",
    "    u(t+\\delta t) &=\n",
    "        \\frac{\\delta t^2 v^2}{b} \\left[ \n",
    "            \\overleftarrow{\\partial_x}\\left(b\\ \\overrightarrow{\\partial_x} u \\right) +\n",
    "            \\overleftarrow{\\partial_y}\\left(b\\ \\overrightarrow{\\partial_y} u \\right) +\n",
    "            \\overleftarrow{\\partial_z}\\left(b\\ \\overrightarrow{\\partial_z} u \\right) + s\n",
    "        \\right] \\\\[10pt]\n",
    "        &\\quad -\\ \\frac{\\delta t\\ \\omega_c}{Q} \\Bigr[u(t) - u(t-\\delta t)\\Bigr] \n",
    "        + 2\\ u(t) - u(t-\\delta t)\n",
    "\\end{aligned}\n",
    "$$\n",
    "\n",
    "#### 7. et voila ...\n",
    "The last equation is how we update the pressure wavefield at each time step, and depends on $u(t)$ and $u(t-\\delta t)$. \n",
    "\n",
    "The main work of the finite difference explicit time stepping is evaluating the nested spatial derivative operators on the RHS of this equation. The particular advantage of Devito symbolic optimization is that Devito is able to solve for the complicated expressions that result from substituting the discrete forms of high order numerical finite difference approximations for these nested spatial derivatives.\n",
    "\n",
    "We have now completed the maths required to implement the modeling operator. The remainder of this notebook deals with setting up and using the required Devito objects.\n"
   ]
  },
  {
   "cell_type": "markdown",
   "metadata": {},
   "source": [
    "<a id=\"nl_grid_and_model\"></a>\n",
    "## Instantiate the Devito grid for a two dimensional problem\n",
    "\n",
    "Define the dimensions and coordinates for the model. The computational domain of the model is surrounded by an *absorbing boundary region* where we implement boundary conditions to eliminate outgoing waves. We define the sizes for the interior of the model ```nx``` and ```nz```, the width of the absorbing boundary region ```npad```, and the sizes for the entire model padded with absorbing boundaries become ```nxpad = nx + 2*npad``` and ```nzpad = nz + 2*npad```."
   ]
  },
  {
   "cell_type": "code",
   "execution_count": 5,
   "metadata": {},
   "outputs": [
    {
     "name": "stdout",
     "output_type": "stream",
     "text": [
      "shape;            (751, 751)\n",
      "origin;           (0.0, 0.0)\n",
      "spacing;          (10.0, 10.0)\n",
      "extent;           (7500.0, 7500.0)\n",
      "\n",
      "shape_pad;        [851 851]\n",
      "origin_pad;       (-500.0, -500.0)\n",
      "extent_pad;       (8500.0, 8500.0)\n",
      "\n",
      "grid.shape;       (851, 851)\n",
      "grid.extent;      (8500.0, 8500.0)\n",
      "grid.spacing_map; {h_x: 10.0, h_z: 10.0}\n"
     ]
    }
   ],
   "source": [
    "# Define dimensions for the interior of the model\n",
    "nx,nz = 751,751\n",
    "dx,dz = 10.0,10.0  # Grid spacing in m\n",
    "shape = (nx, nz)   # Number of grid points\n",
    "spacing = (dx, dz) # Domain size is now 5 km by 5 km\n",
    "origin = (0., 0.)  # Origin of coordinate system, specified in m.\n",
    "extent = tuple([s*(n-1) for s, n in zip(spacing, shape)])\n",
    "\n",
    "# Define dimensions for the model padded with absorbing boundaries\n",
    "npad = 50          # number of points in absorbing boundary region (all sides)\n",
    "nxpad,nzpad = nx+2*npad, nz+2*npad\n",
    "shape_pad   = np.array(shape) + 2 * npad\n",
    "origin_pad  = tuple([o - s*npad for o, s in zip(origin, spacing)])\n",
    "extent_pad  = tuple([s*(n-1) for s, n in zip(spacing, shape_pad)])\n",
    "\n",
    "# Define the dimensions \n",
    "# Note if you do not specify dimensions, you get in order x,y,z\n",
    "x = SpaceDimension(name='x', spacing=Constant(name='h_x', \n",
    "                   value=extent_pad[0]/(shape_pad[0]-1)))\n",
    "z = SpaceDimension(name='z', spacing=Constant(name='h_z', \n",
    "                   value=extent_pad[1]/(shape_pad[1]-1)))\n",
    "\n",
    "# Initialize the Devito grid \n",
    "grid = Grid(extent=extent_pad, shape=shape_pad, origin=origin_pad, \n",
    "            dimensions=(x, z), dtype=dtype)\n",
    "\n",
    "print(\"shape;           \", shape)\n",
    "print(\"origin;          \", origin)\n",
    "print(\"spacing;         \", spacing)\n",
    "print(\"extent;          \", extent)\n",
    "print(\"\")\n",
    "print(\"shape_pad;       \", shape_pad)\n",
    "print(\"origin_pad;      \", origin_pad)\n",
    "print(\"extent_pad;      \", extent_pad)\n",
    "\n",
    "print(\"\")\n",
    "print(\"grid.shape;      \", grid.shape)\n",
    "print(\"grid.extent;     \", grid.extent)\n",
    "print(\"grid.spacing_map;\", grid.spacing_map)"
   ]
  },
  {
   "cell_type": "markdown",
   "metadata": {},
   "source": [
    "## Define velocity and buoyancy model parameters\n",
    "\n",
    "We have the following constants and fields from our SSA wave equation that we define as time invariant using ```Functions```:\n",
    "\n",
    "| &nbsp; Symbol &nbsp; | Description |\n",
    "| :---: | :--- |\n",
    "| $$v(x,z)$$ | Acoustic velocity |\n",
    "| $$b(x,z)=\\frac{1}{\\rho(x,z)}$$ | Buoyancy (reciprocal density) |"
   ]
  },
  {
   "cell_type": "code",
   "execution_count": 6,
   "metadata": {},
   "outputs": [
    {
     "name": "stderr",
     "output_type": "stream",
     "text": [
      "Allocating memory for v(867, 867)\n",
      "Allocating memory for b(867, 867)\n"
     ]
    }
   ],
   "source": [
    "# Create the velocity and buoyancy fields. \n",
    "#   - We use a wholespace 1500 m/s velocity model here\n",
    "#   - These are scalar fields so we use Function to define them\n",
    "#   - We specify space_order to establish the appropriate size halo on the edges \n",
    "space_order = 8\n",
    "\n",
    "# Wholespace velocity\n",
    "v = Function(name='v', grid=grid, space_order=space_order)\n",
    "v.data[:] = 1.5\n",
    "\n",
    "# Constant density\n",
    "b = Function(name='b', grid=grid, space_order=space_order)\n",
    "b.data[:,:] = 1.0 / 1000.0"
   ]
  },
  {
   "cell_type": "markdown",
   "metadata": {},
   "source": [
    "## Define the simulation time range\n",
    "\n",
    "In this notebook we run 2 seconds of simulation using the sample rate related to the CFL condition as implemented in ```examples/seismic/model.py```. \n",
    "\n",
    "**Important note** smaller Q values in highly viscous media may require smaller temporal sampling rates than a non-viscous medium to achieve dispersion free propagation. This is a cost of the visco- acoustic modification we use here.\n",
    "\n",
    "We also use the convenience ```TimeRange``` as defined in ```examples/seismic/source.py```."
   ]
  },
  {
   "cell_type": "code",
   "execution_count": 7,
   "metadata": {},
   "outputs": [
    {
     "name": "stdout",
     "output_type": "stream",
     "text": [
      "Time min, max, dt, num;   0.000000 2000.000000   2.533333 790\n",
      "time_range;  TimeAxis: start=0, stop=2001.33, step=2.53333, num=791\n"
     ]
    }
   ],
   "source": [
    "t0 = dtype(0.)     # Simulation time start\n",
    "tn = dtype(2000.)  # Simulation time end (1 second = 1000 msec)\n",
    "dt = np.float32(0.38 * np.min(spacing) / np.max(v.data))\n",
    "time_range = TimeAxis(start=t0, stop=tn, step=dt)\n",
    "print(\"Time min, max, dt, num; %10.6f %10.6f %10.6f %d\" % (t0, tn, dt, int(tn//dt) + 1))\n",
    "print(\"time_range; \", time_range)"
   ]
  },
  {
   "cell_type": "markdown",
   "metadata": {},
   "source": [
    "## Define the acquisition geometry: locations of sources and receivers \n",
    "\n",
    "**source**:\n",
    "- X coordinate: center of the model: dx*(nx//2)\n",
    "- Z coordinate: center of the model: dz*(nz//2)\n",
    "- We use a 10 Hz center frequency [RickerSource](https://github.com/devitocodes/devito/blob/master/examples/seismic/source.py#L280) wavelet source as defined in ```examples/seismic/source.py```\n",
    "\n",
    "**receivers**:\n",
    "- X coordinate: center of the model: dx*(nx//2)  \n",
    "- Z coordinate: vertical line from top to bottom of model\n",
    "- We use a vertical line of [Receivers](https://github.com/devitocodes/devito/blob/master/examples/seismic/source.py#L80) as defined with a ```PointSource``` in ```examples/seismic/source.py```"
   ]
  },
  {
   "cell_type": "code",
   "execution_count": 8,
   "metadata": {},
   "outputs": [
    {
     "name": "stderr",
     "output_type": "stream",
     "text": [
      "Allocating memory for src(791, 1)\n",
      "Allocating memory for src_coords(1, 2)\n",
      "Allocating memory for rec_coords(751, 2)\n"
     ]
    },
    {
     "name": "stdout",
     "output_type": "stream",
     "text": [
      "src_coordinate  X;           +3750.0000\n",
      "src_coordinate  Z;           +3750.0000\n",
      "src_coordinates X min/max;   +3750.0000   +3750.0000\n",
      "src_coordinates Z min/max;      +0.0000   +7500.0000\n"
     ]
    },
    {
     "data": {
      "image/png": "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\n",
      "text/plain": [
       "<Figure size 432x288 with 1 Axes>"
      ]
     },
     "metadata": {
      "needs_background": "light"
     },
     "output_type": "display_data"
    }
   ],
   "source": [
    "# Source in the center of the model at 10 Hz center frequency\n",
    "fpeak = 0.010\n",
    "src = RickerSource(name='src', grid=grid, f0=fpeak, npoint=1, time_range=time_range)\n",
    "src.coordinates.data[0,0] = dx * (nx//2)\n",
    "src.coordinates.data[0,1] = dz * (nz//2)\n",
    "\n",
    "# line of receivers along the right edge of the model\n",
    "rec = Receiver(name='rec', grid=grid, npoint=nz, time_range=time_range)\n",
    "rec.coordinates.data[:,0] = dx * (nx//2)\n",
    "rec.coordinates.data[:,1] = np.linspace(0.0, dz*(nz-1), nz)\n",
    "\n",
    "print(\"src_coordinate  X;         %+12.4f\" % (src.coordinates.data[0,0]))\n",
    "print(\"src_coordinate  Z;         %+12.4f\" % (src.coordinates.data[0,1]))\n",
    "print(\"src_coordinates X min/max; %+12.4f %+12.4f\" % \\\n",
    "      (np.min(rec.coordinates.data[:,0]), np.max(rec.coordinates.data[:,0])))\n",
    "print(\"src_coordinates Z min/max; %+12.4f %+12.4f\" % \\\n",
    "      (np.min(rec.coordinates.data[:,1]), np.max(rec.coordinates.data[:,1])))\n",
    "\n",
    "# We can plot the time signature to see the wavelet\n",
    "src.show()"
   ]
  },
  {
   "cell_type": "markdown",
   "metadata": {},
   "source": [
    "## Plot velocity model\n",
    "\n",
    "Next we plot the half-space velocity model for illustration. \n",
    "- The demarcation between interior and absorbing boundary is shown with a dotted white line\n",
    "- The source is shown as a large red asterisk\n",
    "- The extent of the receiver array is shown with a thick dashed blue line"
   ]
  },
  {
   "cell_type": "code",
   "execution_count": 9,
   "metadata": {},
   "outputs": [
    {
     "data": {
      "image/png": "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\n",
      "text/plain": [
       "<Figure size 864x576 with 2 Axes>"
      ]
     },
     "metadata": {
      "needs_background": "light"
     },
     "output_type": "display_data"
    }
   ],
   "source": [
    "# note: flip sense of second dimension to make the plot positive downwards\n",
    "plt_extent = [origin_pad[0], origin_pad[0] + spacing[0]*(shape_pad[0]-1), \n",
    "              origin_pad[1] + spacing[1]*(shape_pad[1]-1), origin_pad[1]]\n",
    "\n",
    "vmin, vmax = 1.4, 1.7\n",
    "\n",
    "plt.figure(1, figsize=(12,8))\n",
    "plt.clf()\n",
    "plt.imshow(np.transpose(v.data), cmap=cm.jet, \n",
    "           vmin=vmin, vmax=vmax, extent=plt_extent)\n",
    "plt.plot([origin[0], origin[0], extent[0], extent[0], origin[0]], \n",
    "         [origin[1], extent[1], extent[1], origin[1], origin[1]], \n",
    "         'black', linewidth=4, linestyle=':', label=\"Absorbing Boundary\")\n",
    "plt.plot(rec.coordinates.data[:, 0], rec.coordinates.data[:, 1], \\\n",
    "         'blue', linewidth=5, linestyle='--', label=\"Receiver line\")\n",
    "plt.plot(src.coordinates.data[:, 0], src.coordinates.data[:, 1], \\\n",
    "         'red', linestyle='None', marker='*', markersize=15, label=\"Source\")\n",
    "ax = plt.legend(bbox_to_anchor=(1.25, 0.5), loc='upper left')\n",
    "ax.get_frame().set_color(\"gray\")\n",
    "plt.colorbar()\n",
    "plt.xlabel(\"X Coordinate (m)\", labelpad=15)\n",
    "plt.ylabel(\"Z Coordinate (m)\", labelpad=15)\n",
    "plt.title(\"Wholespace velocity model including absorbing boundary region\", y=1.025)\n",
    "plt.tight_layout()\n",
    "None"
   ]
  },
  {
   "cell_type": "markdown",
   "metadata": {},
   "source": [
    "<a id=\"nl_attenuation\"></a>\n",
    "## Create and plot the $\\frac{\\omega_c}{Q}$ model used for dissipation only attenuation\n",
    "\n",
    "We have two remaining constants and fields from our SSA wave equation that we need to define and instantiate:\n",
    "\n",
    "| &nbsp; Symbol &nbsp; | Description |\n",
    "| :---: | :--- |\n",
    "| $$\\omega_c = 2 \\pi f_c$$      | Center angular frequency |\n",
    "| $$\\frac{1}{Q(x,z)}$$ | Inverse Q model used in the modeling system |\n",
    "\n",
    "The strategy we use is designed to eliminate any corners or edges in the attentuation profile. We do this by making Q as a function of *distance from the nearest boundary*. \n",
    "\n",
    "We have implemented the function ```setup_wOverQ``` for 2D and 3D fields in the file ```utils.py```, and will use it below. In Devito these fields are type ```Function```, a concrete implementation of ```AbstractFunction```. \n",
    "\n",
    "Feel free to inspect the source at [utils.py](utils.py). \n",
    "\n",
    "Note that we will generate two Q models, one with strong attenuation and one with moderate attenuation -- here Q values of 25 and 100 -- in order to demonstrate the impact of attenuation on the amplitude in the receiver gathers plotted near the end of this notebook. "
   ]
  },
  {
   "cell_type": "code",
   "execution_count": 10,
   "metadata": {},
   "outputs": [
    {
     "name": "stderr",
     "output_type": "stream",
     "text": [
      "Allocating memory for wOverQ_025(867, 867)\n",
      "Allocating memory for f_c(947, 947)\n"
     ]
    },
    {
     "name": "stdout",
     "output_type": "stream",
     "text": [
      "w,fpeak;  0.06283185307179587 0.01\n"
     ]
    },
    {
     "name": "stderr",
     "output_type": "stream",
     "text": [
      "Operator `smooth` generated in 0.54 s\n",
      "  * lowering.Expressions: 0.25 s (46.8 %)\n",
      "  * lowering.Clusters: 0.15 s (28.1 %)\n",
      "Flops reduction after symbolic optimization: [130 --> 98]\n",
      "Allocating memory for f_o(885, 885)\n",
      "Operator `smooth` fetched `/tmp/devito-jitcache-uid5138/740485db37ef92aad2a2e993522472be117304fa.c` in 0.14 s from jit-cache\n",
      "Operator `smooth` run in 0.01 s\n",
      "* section0<<16,883>,<16,883>,<851,851>,<851,851>,<883,16>,<883,16>,<851,851>,<851,851>> with OI=0.01 computed in 0.01 s [17.93 GFlops/s]\n",
      "Performance[mode=advanced] arguments: {'nthreads': 16}\n",
      "Allocating memory for wOverQ_100(867, 867)\n",
      "Allocating memory for f_c(947, 947)\n"
     ]
    },
    {
     "name": "stdout",
     "output_type": "stream",
     "text": [
      "setup_wOverQ ran in 0.9534 seconds -- min/max Q values; 0.1000 25.0000\n"
     ]
    },
    {
     "name": "stderr",
     "output_type": "stream",
     "text": [
      "Operator `smooth` generated in 0.46 s\n",
      "  * lowering.Expressions: 0.17 s (37.8 %)\n",
      "  * lowering.Clusters: 0.15 s (33.4 %)\n",
      "  * lowering.IET: 0.10 s (22.3 %)\n",
      "Flops reduction after symbolic optimization: [130 --> 98]\n",
      "Allocating memory for f_o(885, 885)\n",
      "Operator `smooth` fetched `/tmp/devito-jitcache-uid5138/740485db37ef92aad2a2e993522472be117304fa.c` in 0.09 s from jit-cache\n",
      "Operator `smooth` run in 0.01 s\n",
      "* section0<<16,883>,<16,883>,<851,851>,<851,851>,<883,16>,<883,16>,<851,851>,<851,851>> with OI=0.01 computed in 0.01 s [14.96 GFlops/s]\n",
      "Performance[mode=advanced] arguments: {'nthreads': 16}\n"
     ]
    },
    {
     "name": "stdout",
     "output_type": "stream",
     "text": [
      "setup_wOverQ ran in 0.7995 seconds -- min/max Q values; 0.1000 100.0000\n",
      "p0;  [0.05  0.125 0.45  0.88 ]\n",
      "p1;  [0.55  0.125 0.95  0.88 ]\n"
     ]
    },
    {
     "data": {
      "image/png": "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\n",
      "text/plain": [
       "<Figure size 864x576 with 3 Axes>"
      ]
     },
     "metadata": {
      "needs_background": "light"
     },
     "output_type": "display_data"
    }
   ],
   "source": [
    "#NBVAL_INGNORE_OUTPUT\n",
    "# Initialize the attenuation profile for Q=25 and Q=100 models\n",
    "w = 2.0 * np.pi * fpeak\n",
    "print(\"w,fpeak; \", w, fpeak)\n",
    "qmin = 0.1\n",
    "\n",
    "wOverQ_025 = Function(name='wOverQ_025', grid=grid, space_order=space_order)\n",
    "wOverQ_100 = Function(name='wOverQ_100', grid=grid, space_order=space_order)\n",
    "\n",
    "setup_wOverQ(wOverQ_025, w, qmin, 25.0, npad)\n",
    "setup_wOverQ(wOverQ_100, w, qmin, 100.0, npad)\n",
    "\n",
    "# Plot the log of the generated Q profile\n",
    "q025 = np.log10(w / wOverQ_025.data)\n",
    "q100 = np.log10(w / wOverQ_100.data)\n",
    "lmin, lmax = np.log10(qmin), np.log10(100)\n",
    "\n",
    "fig, ax = plt.subplots(1, 2, figsize=(12, 8))\n",
    "plt.subplots_adjust(left=0.05, right=0.95, wspace=0.25)\n",
    "\n",
    "plt.subplot(1,2,1)\n",
    "im025 = plt.imshow(np.transpose(q025.data), cmap=cm.jet_r, \n",
    "                   vmin=lmin, vmax=lmax, extent=plt_extent)\n",
    "plt.plot([origin[0], origin[0], extent[0], extent[0], origin[0]], \n",
    "         [origin[1], extent[1], extent[1], origin[1], origin[1]], \n",
    "         'white', linewidth=4, linestyle=':', label=\"Absorbing Boundary\")\n",
    "plt.xlabel(\"X Coordinate (m)\", labelpad=15)\n",
    "plt.ylabel(\"Z Coordinate (m)\", labelpad=15)\n",
    "plt.title(\"log10 of $Q=25$ model\", y=1.035)\n",
    "\n",
    "plt.subplot(1,2,2)\n",
    "im100 = plt.imshow(np.transpose(q100.data), cmap=cm.jet_r, \n",
    "                   vmin=lmin, vmax=lmax, extent=plt_extent)\n",
    "plt.plot([origin[0], origin[0], extent[0], extent[0], origin[0]], \n",
    "         [origin[1], extent[1], extent[1], origin[1], origin[1]], \n",
    "         'white', linewidth=4, linestyle=':', label=\"Absorbing Boundary\")\n",
    "plt.xlabel(\"X Coordinate (m)\", labelpad=15)\n",
    "plt.ylabel(\"Z Coordinate (m)\", labelpad=15)\n",
    "plt.title(\"log10 of $Q=100$ model\", y=1.025)\n",
    "\n",
    "plt.draw()\n",
    "p0 = ax[0].get_position().get_points().flatten()\n",
    "p1 = ax[1].get_position().get_points().flatten()\n",
    "print(\"p0; \", p0)\n",
    "print(\"p1; \", p1)\n",
    "ax_cbar = fig.add_axes([p0[0], 0, p1[2]-p0[0], 0.05])\n",
    "cbar = plt.colorbar(im100, cax=ax_cbar, orientation='horizontal')\n",
    "cbar.set_label('Log10 of Q(x,z)', labelpad=-75, y=1.035, rotation=0)\n",
    "None"
   ]
  },
  {
   "cell_type": "markdown",
   "metadata": {},
   "source": [
    "## Define the pressure wavefield as a ```TimeFunction```\n",
    "\n",
    "We specify the time_order as 2, which allocates 3 time steps in the pressure wavefield. As described elsewhere, Devito will use \"cyclic indexing\" to index into this multi-dimensional array. \n",
    "\n",
    "This [FAQ entry](https://github.com/devitocodes/devito/wiki/FAQ#as-time-increases-in-the-finite-difference-evolution-are-wavefield-arrays-swapped-as-you-might-see-in-cc-code) explains in more detail."
   ]
  },
  {
   "cell_type": "code",
   "execution_count": 11,
   "metadata": {},
   "outputs": [],
   "source": [
    "# Define the TimeFunction\n",
    "u = TimeFunction(name=\"u\", grid=grid, time_order=2, space_order=space_order)\n",
    "\n",
    "# Get the symbols for dimensions for t, x, z \n",
    "# We need these below in order to write the source injection and the\n",
    "#   time update equation\n",
    "t,x,z = u.dimensions"
   ]
  },
  {
   "cell_type": "markdown",
   "metadata": {},
   "source": [
    "## Define the source injection and receiver extraction \n",
    "\n",
    "If you examine the equation for the time update we derived above you will see that the source $s$ is scaled by the term $\\frac{\\delta t^2 v^2}{b}$. You will see that scaling term in the source injection below. For $\\delta t^2$ we use ```t.spacing**2```. \n",
    "\n",
    "Note that source injection and receiver extraction are accomplished via bi/tri linear interpolation, as implemented in ```SparseTimeFunction``` in [sparse.py](https://github.com/devitocodes/devito/blob/master/devito/types/sparse.py#L747).\n"
   ]
  },
  {
   "cell_type": "code",
   "execution_count": 12,
   "metadata": {},
   "outputs": [
    {
     "ename": "NameError",
     "evalue": "name 'p' is not defined",
     "output_type": "error",
     "traceback": [
      "\u001b[0;31m---------------------------------------------------------------------------\u001b[0m",
      "\u001b[0;31mNameError\u001b[0m                                 Traceback (most recent call last)",
      "\u001b[0;32m<ipython-input-12-58f87f581932>\u001b[0m in \u001b[0;36m<module>\u001b[0;34m\u001b[0m\n\u001b[1;32m      1\u001b[0m \u001b[0;31m# Finally we define the source injection and receiver extraction functions\u001b[0m\u001b[0;34m\u001b[0m\u001b[0;34m\u001b[0m\u001b[0;34m\u001b[0m\u001b[0m\n\u001b[0;32m----> 2\u001b[0;31m \u001b[0msrc_term\u001b[0m \u001b[0;34m=\u001b[0m \u001b[0msrc\u001b[0m\u001b[0;34m.\u001b[0m\u001b[0minject\u001b[0m\u001b[0;34m(\u001b[0m\u001b[0mfield\u001b[0m\u001b[0;34m=\u001b[0m\u001b[0mp\u001b[0m\u001b[0;34m.\u001b[0m\u001b[0mforward\u001b[0m\u001b[0;34m,\u001b[0m \u001b[0mexpr\u001b[0m\u001b[0;34m=\u001b[0m\u001b[0msrc\u001b[0m \u001b[0;34m*\u001b[0m \u001b[0mt\u001b[0m\u001b[0;34m.\u001b[0m\u001b[0mspacing\u001b[0m\u001b[0;34m**\u001b[0m\u001b[0;36m2\u001b[0m \u001b[0;34m*\u001b[0m \u001b[0mv\u001b[0m\u001b[0;34m**\u001b[0m\u001b[0;36m2\u001b[0m \u001b[0;34m/\u001b[0m \u001b[0mb\u001b[0m\u001b[0;34m)\u001b[0m\u001b[0;34m\u001b[0m\u001b[0;34m\u001b[0m\u001b[0m\n\u001b[0m\u001b[1;32m      3\u001b[0m \u001b[0;34m\u001b[0m\u001b[0m\n\u001b[1;32m      4\u001b[0m \u001b[0;31m# Create interpolation expression for receivers\u001b[0m\u001b[0;34m\u001b[0m\u001b[0;34m\u001b[0m\u001b[0;34m\u001b[0m\u001b[0m\n\u001b[1;32m      5\u001b[0m \u001b[0mrec_term\u001b[0m \u001b[0;34m=\u001b[0m \u001b[0mrec\u001b[0m\u001b[0;34m.\u001b[0m\u001b[0minterpolate\u001b[0m\u001b[0;34m(\u001b[0m\u001b[0mexpr\u001b[0m\u001b[0;34m=\u001b[0m\u001b[0mp\u001b[0m\u001b[0;34m.\u001b[0m\u001b[0mforward\u001b[0m\u001b[0;34m)\u001b[0m\u001b[0;34m\u001b[0m\u001b[0;34m\u001b[0m\u001b[0m\n",
      "\u001b[0;31mNameError\u001b[0m: name 'p' is not defined"
     ]
    }
   ],
   "source": [
    "# Finally we define the source injection and receiver extraction functions \n",
    "src_term = src.inject(field=p.forward, expr=src * t.spacing**2 * v**2 / b)\n",
    "\n",
    "# Create interpolation expression for receivers\n",
    "rec_term = rec.interpolate(expr=p.forward)"
   ]
  },
  {
   "cell_type": "markdown",
   "metadata": {},
   "source": [
    "<a id=\"nl_build_operator\"></a>\n",
    "## Finally, the Devito operators\n",
    "\n",
    "We next transcribe the time update expression above into a Devito ```Eq```. Then we add the source injection and receiver extraction and build an ```Operator``` that will generate the c++ code for performing the modeling.\n",
    "\n",
    "We copy the time update expression from above for clarity. Note we omit $s$ from the ```Eq``` below because we will be explicitly injecting the source using ```src_term``` (defined immediately above). However, for the linearized operations *Born modeling* and *Born migration*, the $s$ term is an appropriately scaled field, as shown in the next notebook in this series.  \n",
    "\n",
    "$$\n",
    "\\begin{aligned}\n",
    "    u(t+\\delta t) &=\n",
    "        \\frac{\\delta t^2 v^2}{b} \\left[ \n",
    "            \\overleftarrow{\\partial_x}\\left(b\\ \\overrightarrow{\\partial_x} u \\right) +\n",
    "            \\overleftarrow{\\partial_y}\\left(b\\ \\overrightarrow{\\partial_y} u \\right) +\n",
    "            \\overleftarrow{\\partial_z}\\left(b\\ \\overrightarrow{\\partial_z} u \\right) + s\n",
    "        \\right] \\\\[10pt]\n",
    "        &\\quad -\\ \\frac{\\delta t\\ \\omega_c}{Q} \\Bigr[u(t) - u(t-\\delta t)\\Bigr] \n",
    "        + 2 u(t) - u(t-\\delta t)\n",
    "\\end{aligned}\n",
    "$$"
   ]
  },
  {
   "cell_type": "code",
   "execution_count": null,
   "metadata": {},
   "outputs": [],
   "source": [
    "#NBVAL_INGNORE_OUTPUT\n",
    "\n",
    "# Generate the time update equation and operator for Q=25 model\n",
    "eq_time_update = (t.spacing**2 * v**2 / b) * \\\n",
    "    ((b * u.dx(x0=x+x.spacing/2)).dx(x0=x-x.spacing/2) + \\\n",
    "     (b * u.dz(x0=z+z.spacing/2)).dz(x0=z-z.spacing/2)) - \\\n",
    "    t.spacing * wOverQ_025 * (u - u.backward) + 2 * u - u.backward\n",
    "\n",
    "stencil = Eq(u.forward, eq_time_update)\n",
    "\n",
    "# update the dimension spacing_map to include the time dimension\n",
    "# these symbols will be replaced with the relevant scalars by the Operator\n",
    "spacing_map = grid.spacing_map\n",
    "spacing_map.update({t.spacing : dt})\n",
    "print(\"spacing_map; \", spacing_map)\n",
    "\n",
    "# op = Operator([stencil] + src_term + rec_term)\n",
    "op = Operator([stencil] + src_term + rec_term, subs=spacing_map)"
   ]
  },
  {
   "cell_type": "markdown",
   "metadata": {},
   "source": [
    "## Impact of hardwiring the grid spacing on operation count\n",
    "\n",
    "The argument ```subs=spacing_map``` passed to the operator substitutes values for the ```TimeFunction``` dimensions into the expressions before code generation. This reduces the number of floating point operations executed by the kernel by pre-evaluating certain coefficients, and possibly absorbing the spacing scalars from the denominators of the numerical finite difference approximations into the finite difference coefficients.  \n",
    "\n",
    "If you run the two cases of passing/not passing the ```subs=spacing_map``` argument by commenting/un-commenting the last two lines of the cell immediately above, you can inspect the difference in computed flop count for the operator. Note also if you inspect the generated code for the two cases, you will see extra calling parameters are required for the case without the substitution. We have compiled the flop count from the two runs into the table below.\n",
    "\n",
    "| Passing subs argument | Flops reduction after symbolic optimization |\n",
    "|:---|:---:|\n",
    "| True | 300 --> 68 |\n",
    "| False | 588 --> 81 |\n",
    "\n",
    "Note the gain in performance is around 15% for this example in 2D, and would be even more significant in 3D."
   ]
  },
  {
   "cell_type": "code",
   "execution_count": null,
   "metadata": {},
   "outputs": [],
   "source": [
    "# NBVAL_IGNORE_OUTPUT\n",
    "# Print the arguments used in the signature for the the c++ generated code\n",
    "op.arguments()"
   ]
  },
  {
   "cell_type": "code",
   "execution_count": null,
   "metadata": {},
   "outputs": [],
   "source": [
    "# NBVAL_IGNORE_OUTPUT\n",
    "# Print the generated c++ code\n",
    "print(op)"
   ]
  },
  {
   "cell_type": "markdown",
   "metadata": {},
   "source": [
    "<a id=\"nl_run_operator\"></a>\n",
    "## Performing the modeling: run the operator for Q=25 and Q=100 models\n",
    "\n",
    "By setting Devito logging ```configuration['log-level'] = 'DEBUG'``` we have enabled output of statistics related to the performance of the operator, which you will see below when the operator runs.\n",
    "\n",
    "We will run the Operator once with the Q model as defined ```wOverQ_025```, and then run a second time passing the ```wOverQ_100``` Q model."
   ]
  },
  {
   "cell_type": "code",
   "execution_count": null,
   "metadata": {},
   "outputs": [],
   "source": [
    "#NBVAL_INGNORE_OUTPUT\n",
    "\n",
    "# run the operator for the Q=25 model\n",
    "print(\"v          min/max; %+12.6e %+12.6e\" % (np.min(v.data), np.max(v.data)))\n",
    "print(\"b          min/max; %+12.6e %+12.6e\" % (np.min(b.data), np.max(b.data)))\n",
    "print(\"wOverQ_025 min/max; %+12.6e %+12.6e\" % (np.min(wOverQ_025.data), np.max(wOverQ_025.data)))\n",
    "print(\"wOverQ_100 min/max; %+12.6e %+12.6e\" % (np.min(wOverQ_100.data), np.max(wOverQ_100.data)))\n",
    "print(time_range)\n",
    "ou(time=time_range.num-1)\n",
    "# summary = ou(time=time_range.num-1, h_x=dx, h_z=dz, dt=dt)\n",
    "\n",
    "# save the Q=25 results and run the Q=100 case\n",
    "import copy\n",
    "pQ25 = copy.copy(p)\n",
    "recQ25 = copy.copy(rec)\n",
    "\n",
    "u.data[:] = 0\n",
    "ou(time=time_range.num-1, wOverQ_025 = wOverQ_100)\n",
    "\n",
    "print(\"Q= 25 receiver data min/max; %+12.6e %+12.6e\" %\\\n",
    "      (np.min(recQ25.data[:]), np.max(recQ25.data[:])))\n",
    "print(\"Q=100 receiver data min/max; %+12.6e %+12.6e\" %\\\n",
    "      (np.min(rec.data[:]), np.max(rec.data[:])))"
   ]
  },
  {
   "cell_type": "markdown",
   "metadata": {},
   "source": [
    "<a id=\"nl_plot_wavefield\"></a>\n",
    "## Plot the computed Q=25 and Q=100 wavefields"
   ]
  },
  {
   "cell_type": "code",
   "execution_count": null,
   "metadata": {},
   "outputs": [],
   "source": [
    "# Plot the two wavefields, normalized to Q=100 (the larger amplitude)\n",
    "amax_Q25  = 1.0 * np.max(np.abs(pQ25.data[1,:,:]))\n",
    "amax_Q100 = 1.0 * np.max(np.abs(u.data[1,:,:]))\n",
    "print(\"amax Q= 25; %12.6f\" % (amax_Q25))\n",
    "print(\"amax Q=100; %12.6f\" % (amax_Q100))\n",
    "\n",
    "fig, ax = plt.subplots(1, 2, figsize=(12, 8))\n",
    "plt.subplots_adjust(left=0.05, right=0.95, wspace=0.25)\n",
    "\n",
    "plt.subplot(1,2,1)\n",
    "im025 = plt.imshow(np.transpose(pQ25.data[1,:,:]), cmap=\"seismic\", vmin=-amax_Q100, vmax=+amax_Q100, extent=plt_extent)\n",
    "plt.plot([origin[0], origin[0], extent[0], extent[0], origin[0]], \n",
    "         [origin[1], extent[1], extent[1], origin[1], origin[1]], \n",
    "         'black', linewidth=4, linestyle=':', label=\"Absorbing Boundary\")\n",
    "plt.plot([origin[0], origin[0], extent[0], extent[0], origin[0]], \n",
    "         [origin[1], extent[1], extent[1], origin[1], origin[1]], \n",
    "         'black', linewidth=4, linestyle=':', label=\"Absorbing Boundary\")\n",
    "plt.plot(src.coordinates.data[:, 0], src.coordinates.data[:, 1], \\\n",
    "         'red', linestyle='None', marker='*', markersize=15, label=\"Source\")\n",
    "plt.xlabel(\"X Coordinate (m)\", labelpad=15)\n",
    "plt.ylabel(\"Z Coordinate (m)\", labelpad=15)\n",
    "plt.title('Wavefield at t=%.0f Q=25' % (time_range.stop))\n",
    "# plt.colorbar()\n",
    "\n",
    "plt.subplot(1,2,2)\n",
    "im100 = plt.imshow(np.transpose(u.data[1,:,:]), cmap=\"seismic\", vmin=-amax_Q100, vmax=+amax_Q100, extent=plt_extent)\n",
    "plt.plot([origin[0], origin[0], extent[0], extent[0], origin[0]], \n",
    "         [origin[1], extent[1], extent[1], origin[1], origin[1]], \n",
    "         'black', linewidth=4, linestyle=':', label=\"Absorbing Boundary\")\n",
    "plt.plot(src.coordinates.data[:, 0], src.coordinates.data[:, 1], \\\n",
    "         'red', linestyle='None', marker='*', markersize=15, label=\"Source\")\n",
    "plt.xlabel(\"X Coordinate (m)\", labelpad=15)\n",
    "plt.ylabel(\"Z Coordinate (m)\", labelpad=15)\n",
    "plt.title('Wavefield at t=%.0f Q=100' % (time_range.stop))\n",
    "\n",
    "plt.draw()\n",
    "p0 = ax[0].get_position().get_points().flatten()\n",
    "p1 = ax[1].get_position().get_points().flatten()\n",
    "print(\"p0; \", p0)\n",
    "print(\"p1; \", p1)\n",
    "ax_cbar = fig.add_axes([p0[0], 0, p1[2]-p0[0], 0.05])\n",
    "cbar = plt.colorbar(im100, cax=ax_cbar, orientation='horizontal')\n",
    "cbar.set_label('Amplitude', labelpad=-75, y=1.035, rotation=0)\n",
    "None"
   ]
  },
  {
   "cell_type": "markdown",
   "metadata": {},
   "source": [
    "## Plot the computed Q=25 and Q=100 receiver gathers"
   ]
  },
  {
   "cell_type": "code",
   "execution_count": null,
   "metadata": {},
   "outputs": [],
   "source": [
    "# Plot the two receiver gathers, normalized to Q=100 (the larger amplitude)\n",
    "amax_Q25  = 0.1 * np.max(np.abs(recQ25.data[:]))\n",
    "amax_Q100 = 0.1 * np.max(np.abs(rec.data[:]))\n",
    "print(\"amax Q= 25; %12.6f\" % (amax_Q25))\n",
    "print(\"amax Q=100; %12.6f\" % (amax_Q100))\n",
    "\n",
    "fig, ax = plt.subplots(1, 2, figsize=(12, 8))\n",
    "plt.subplots_adjust(left=0.05, right=0.95, wspace=0.25)\n",
    "\n",
    "plt.subplot(1,2,1)\n",
    "im025 = plt.imshow(recQ25.data[:,:], cmap=\"seismic\", vmin=-amax_Q100, vmax=+amax_Q100, extent=plt_extent)\n",
    "plt.xlabel(\"X Coordinate (m)\", labelpad=15)\n",
    "plt.ylabel(\"Z Coordinate (m)\", labelpad=15)\n",
    "plt.title('Receiver gather for Q=25')\n",
    "# plt.colorbar()\n",
    "\n",
    "plt.subplot(1,2,2)\n",
    "im100 = plt.imshow(rec.data[:,:], cmap=\"seismic\", vmin=-amax_Q100, vmax=+amax_Q100, extent=plt_extent)\n",
    "plt.xlabel(\"X Coordinate (m)\", labelpad=15)\n",
    "plt.ylabel(\"Z Coordinate (m)\", labelpad=15)\n",
    "plt.title('Receiver gather for Q=100')\n",
    "\n",
    "plt.draw()\n",
    "p0 = ax[0].get_position().get_points().flatten()\n",
    "p1 = ax[1].get_position().get_points().flatten()\n",
    "print(\"p0; \", p0)\n",
    "print(\"p1; \", p1)\n",
    "ax_cbar = fig.add_axes([p0[0], 0, p1[2]-p0[0], 0.05])\n",
    "cbar = plt.colorbar(im100, cax=ax_cbar, orientation='horizontal')\n",
    "cbar.set_label('Amplitude', labelpad=-75, y=1.035, rotation=0)\n",
    "None"
   ]
  },
  {
   "cell_type": "markdown",
   "metadata": {},
   "source": [
    "## Show the output from Devito solving for the stencil\n",
    "\n",
    "Note this takes a **long time** ... about 50 seconds, but obviates the need to solve for the time update expression as we did above.\n",
    "\n",
    "If you would like to see the time update equation as generated by Devito symbolic optimization, uncomment the lines for the solve below."
   ]
  },
  {
   "cell_type": "code",
   "execution_count": null,
   "metadata": {},
   "outputs": [],
   "source": [
    "#NBVAL_INGNORE_OUTPUT\n",
    "# Define the partial_differential equation\n",
    "# Note the backward shifted time derivative is obtained via u.dt(x0=t-0.5*t.spacing) \n",
    "pde = (b / v**2) * (wOverQ_100 * u.dt(x0=t-0.5*t.spacing) + u.dt2) -\\\n",
    "        (b * u.dx(x0=x+0.5*x.spacing)).dx(x0=x-0.5*x.spacing) -\\\n",
    "        (b * u.dz(x0=z+0.5*z.spacing)).dz(x0=z-0.5*z.spacing)\n",
    "\n",
    "# Uncomment the next 5 lines to see the equation as generated by Devito\n",
    "# t1 = timer()\n",
    "# stencil = Eq(p.forward, solve(pde, p.forward))\n",
    "# t2 = timer()\n",
    "# print(\"solve ran in %.4f seconds.\" % (t2-t1)) \n",
    "# stencil"
   ]
  },
  {
   "cell_type": "markdown",
   "metadata": {},
   "source": []
  },
  {
   "cell_type": "markdown",
   "metadata": {},
   "source": [
    "<a id=\"nl_refs\"></a>\n",
    "## References\n",
    "<br>\n",
    "\n",
    "- **A nonreflecting boundary condition for discrete acoustic and elastic wave equations** (1985)\n",
    "<br>Charles Cerjan, Dan Kosloff, Ronnie Kosloff, and Moshe Resheq\n",
    "<br> Geophysics, Vol. 50, No. 4\n",
    "<br>https://library.seg.org/doi/pdfplus/10.1190/segam2016-13878451.1\n",
    "<br>\n",
    "\n",
    "- **Generation of Finite Difference Formulas on Arbitrarily Spaced Grids** (1988)\n",
    "<br>Bengt Fornberg\n",
    "<br>Mathematics of Computation, Vol. 51, No. 184\n",
    "<br>http://dx.doi.org/10.1090/S0025-5718-1988-0935077-0\n",
    "<br>https://web.njit.edu/~jiang/math712/fornberg.pdf\n",
    "<br>\n",
    "\n",
    "- **Self-adjoint, energy-conserving second-order pseudoacoustic systems for VTI and TTI media for reverse time migration and full-waveform inversion** (2016)\n",
    "<br>Kenneth Bube, John Washbourne, Raymond Ergas, and Tamas Nemeth\n",
    "<br>SEG Technical Program Expanded Abstracts\n",
    "<br>https://library.seg.org/doi/10.1190/segam2016-13878451.1\n"
   ]
  },
  {
   "cell_type": "markdown",
   "metadata": {},
   "source": []
  }
 ],
 "metadata": {
  "anaconda-cloud": {},
  "kernelspec": {
   "display_name": "Python 3",
   "language": "python",
   "name": "python3"
  },
  "language_info": {
   "codemirror_mode": {
    "name": "ipython",
    "version": 3
   },
   "file_extension": ".py",
   "mimetype": "text/x-python",
   "name": "python",
   "nbconvert_exporter": "python",
   "pygments_lexer": "ipython3",
   "version": "3.8.2"
  }
 },
 "nbformat": 4,
 "nbformat_minor": 4
}
